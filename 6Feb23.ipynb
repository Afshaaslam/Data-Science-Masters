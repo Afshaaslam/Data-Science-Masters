{
 "cells": [
  {
   "cell_type": "code",
   "execution_count": 1,
   "id": "975e37f9-281d-4fb3-a54e-473935364ac5",
   "metadata": {},
   "outputs": [
    {
     "name": "stdout",
     "output_type": "stream",
     "text": [
      "The flat list is  [1, 2, 3, 4, 44, 55, 66, 34, 56, 78, 89, 34, 1, 2, 3, 1, 34, 55, 67, 78, 89, 4, 45, 22, 61, 34, 56]\n",
      "Product of all elements in the flat list is: = 4134711838987085478833841242112000\n"
     ]
    }
   ],
   "source": [
    "def is_integer(x):\n",
    "    return not isinstance(x, bool) and isinstance(x, int)    \n",
    "    \n",
    "def get_numbers(num_list):\n",
    "    if isinstance(num_list, dict):\n",
    "        for key, val in num_list.items():\n",
    "            if is_integer(key):\n",
    "                yield key\n",
    "            yield from get_numbers(val)\n",
    "    elif isinstance(num_list, (list, tuple, set)):\n",
    "        for val in num_list:\n",
    "            if is_integer(val):\n",
    "                yield val\n",
    "            else:\n",
    "                yield from get_numbers(val)\n",
    "    else:\n",
    "        if is_integer(num_list):\n",
    "            yield num_list\n",
    "\n",
    "list1 = [1,2,3,4, [44,55,66, True], False, (34,56,78,89,34), {1,2,3,3,2,1}, {1:34, \"key2\": [55, 67, 78, 89], 4: (45,\n",
    "22, 61, 34)}, [56, 'data science'], 'Machine Learning'] \n",
    "\n",
    "lst=list(get_numbers(list1))\n",
    "print('The flat list is ',list(get_numbers(list1)))\n",
    "\n",
    "prod=1\n",
    "for i in lst:\n",
    "    prod=prod * i\n",
    "print ('Product of all elements in the flat list is: =',prod)"
   ]
  },
  {
   "cell_type": "code",
   "execution_count": 3,
   "id": "ac1b85f1-f8a8-4230-873c-cc7fa40d834b",
   "metadata": {},
   "outputs": [
    {
     "name": "stdout",
     "output_type": "stream",
     "text": [
      "The reciprocal of ABcD is - \n",
      "ZYxW"
     ]
    }
   ],
   "source": [
    "def isupper(ch):\n",
    "    if ch >= 'A' and ch <= 'Z':\n",
    "        return True\n",
    "    return False\n",
    " \n",
    "# to check for LOWERCASE\n",
    "def islower(ch):\n",
    "    if ch >= 'a' and ch <= 'z':\n",
    "        return True\n",
    "    return False\n",
    " \n",
    "# To print reciprocal string\n",
    "def reciprocalString(word):\n",
    "    ch = ''\n",
    "    for i in range(len(word)):\n",
    " \n",
    "        # converting uppercase character\n",
    "        # To reciprocal character\n",
    "        # display the character\n",
    "        if isupper(word[i]):\n",
    "            ch = chr(ord('Z') -\n",
    "                     ord(word[i]) + ord('A'))\n",
    "            print(ch, end = \"\")\n",
    " \n",
    "        # converting lowercase character\n",
    "        # To reciprocal character\n",
    "        # display the character\n",
    "        elif islower(word[i]):\n",
    "            ch = chr(ord('z') -\n",
    "                     ord(word[i]) + ord('a'))\n",
    "            print(ch, end = \"\")\n",
    "        else:\n",
    "            print(word[i], end = \"\")\n",
    " \n",
    "# Driver Code\n",
    "if __name__ == \"__main__\":\n",
    "    s = \"ABcD\"\n",
    "    print(\"The reciprocal of\", s, \"is - \")\n",
    "    reciprocalString(s)\n",
    " "
   ]
  },
  {
   "cell_type": "code",
   "execution_count": 5,
   "id": "adde4cb0-cb77-4be0-b36f-65bff41b7b5d",
   "metadata": {},
   "outputs": [
    {
     "name": "stdout",
     "output_type": "stream",
     "text": [
      "the book is mine\n"
     ]
    }
   ],
   "source": [
    "str=\"The book is minE\"\n",
    "print(str.lower())"
   ]
  },
  {
   "cell_type": "code",
   "execution_count": 18,
   "id": "97a9e1ea-1fce-49fd-959d-8dcf2323a21d",
   "metadata": {},
   "outputs": [
    {
     "name": "stdout",
     "output_type": "stream",
     "text": [
      "The reciprocal of IwanttobecomeaDataScientist is - \n",
      "rdzmgglyvxlnvzwzgzhxrvmgrhg"
     ]
    }
   ],
   "source": [
    "# To print reciprocal string\n",
    "def reciprocalString(word):\n",
    "    ch = ''\n",
    "    for i in range(len(word)):\n",
    "        word=word.lower()   \n",
    "        ch = chr(ord('z') -\n",
    "             ord(word[i]) + ord('a'))\n",
    "        print(ch, end = \"\")\n",
    "        \n",
    "        ##print(word[i], end = \"\")\n",
    " \n",
    "# Driver Code\n",
    "if __name__ == \"__main__\":\n",
    "    s = \"IwanttobecomeaDataScientist\"\n",
    "    print(\"The reciprocal of\", s, \"is - \")\n",
    "    reciprocalString(s)\n",
    " "
   ]
  },
  {
   "cell_type": "code",
   "execution_count": null,
   "id": "b64283c9-a469-4d2e-bb50-cbd9e3aedffe",
   "metadata": {},
   "outputs": [],
   "source": []
  }
 ],
 "metadata": {
  "kernelspec": {
   "display_name": "Python 3 (ipykernel)",
   "language": "python",
   "name": "python3"
  },
  "language_info": {
   "codemirror_mode": {
    "name": "ipython",
    "version": 3
   },
   "file_extension": ".py",
   "mimetype": "text/x-python",
   "name": "python",
   "nbconvert_exporter": "python",
   "pygments_lexer": "ipython3",
   "version": "3.10.8"
  }
 },
 "nbformat": 4,
 "nbformat_minor": 5
}
