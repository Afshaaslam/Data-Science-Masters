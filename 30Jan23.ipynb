{
 "cells": [
  {
   "cell_type": "code",
   "execution_count": 1,
   "id": "2642978f-9712-4c92-aad4-854073104dee",
   "metadata": {},
   "outputs": [
    {
     "name": "stdout",
     "output_type": "stream",
     "text": [
      "Enter Percentage Obtained by You: \n"
     ]
    },
    {
     "name": "stdin",
     "output_type": "stream",
     "text": [
      " 60\n"
     ]
    },
    {
     "name": "stdout",
     "output_type": "stream",
     "text": [
      "Your Grade is C\n"
     ]
    }
   ],
   "source": [
    "## Accept percentage from user display grade acc to gvn criteria\n",
    "print(\"Enter Percentage Obtained by You: \")\n",
    "percentage = int(input())\n",
    "\n",
    "if percentage>=90 and percentage<=100:\n",
    "    print(\"Your Grade is A\")\n",
    "elif percentage>=80 and percentage<90:\n",
    "    print(\"Your Grade is B\")\n",
    "elif percentage>=60 and percentage<80:\n",
    "    print(\"Your Grade is C\")\n",
    "elif percentage<60 :\n",
    "    print(\"Your Grade is D\")\n",
    "else:\n",
    "    print(\"Not Correctly Entered!\")\n"
   ]
  },
  {
   "cell_type": "code",
   "execution_count": 2,
   "id": "931f5665-819b-4db2-a63e-a9746946defa",
   "metadata": {},
   "outputs": [
    {
     "name": "stdout",
     "output_type": "stream",
     "text": [
      "Enter your Bike Price : \n"
     ]
    },
    {
     "name": "stdin",
     "output_type": "stream",
     "text": [
      " 400000\n"
     ]
    },
    {
     "name": "stdout",
     "output_type": "stream",
     "text": [
      "60000.0 is your road Tax to be paid\n"
     ]
    }
   ],
   "source": [
    "##Program to accept cost price of a bike and display road tax to be paid\n",
    "print(\"Enter your Bike Price : \")\n",
    "bike_Price = float(input())\n",
    "if bike_Price>=100000:\n",
    "    t=0.15\n",
    "elif bike_Price>=50000 and bike_Price<100000:\n",
    "    t=0.10\n",
    "elif bike_Price<50000:\n",
    "    t=0.05\n",
    "road_Tax=bike_Price * t\n",
    "print(road_Tax, \"is your road Tax to be paid\")\n"
   ]
  },
  {
   "cell_type": "code",
   "execution_count": 4,
   "id": "7df0ffde-de43-48c3-9a95-d61add0cb70d",
   "metadata": {},
   "outputs": [
    {
     "name": "stdout",
     "output_type": "stream",
     "text": [
      "Enter one city[Delhi, Agra Jaipur] : \n"
     ]
    },
    {
     "name": "stdin",
     "output_type": "stream",
     "text": [
      " delhi\n"
     ]
    },
    {
     "name": "stdout",
     "output_type": "stream",
     "text": [
      "Red Forte is your Monumnet name of the city\n"
     ]
    }
   ],
   "source": [
    "##Program to accept one city and display its monument \n",
    "print(\"Enter one city[Delhi, Agra Jaipur] : \")\n",
    "city_name = input()\n",
    "if city_name.upper()==\"DELHI\":\n",
    "    monument_name=\"Red Forte\"\n",
    "elif city_name.upper()==\"AGRA\":\n",
    "    monument_name=\"Taj Mahal\"\n",
    "elif city_name.upper()==\"JAIPUR\":\n",
    "    monument_name=\"Jal Mahal\"\n",
    "print(monument_name, \"is your Monumnet name of the city\")\n"
   ]
  },
  {
   "cell_type": "code",
   "execution_count": 6,
   "id": "624ee3fa-a32c-4cce-90f6-228953bad282",
   "metadata": {},
   "outputs": [
    {
     "name": "stdin",
     "output_type": "stream",
     "text": [
      "Enter the number  to check how many times its divided by 3 :  27\n"
     ]
    },
    {
     "name": "stdout",
     "output_type": "stream",
     "text": [
      "27\n",
      "24\n",
      "21\n",
      "18\n",
      "15\n",
      "12\n",
      "9\n",
      "6\n",
      "3\n",
      "The given number is divisible by three 9 times\n"
     ]
    }
   ],
   "source": [
    "##Check how many times a number is divisible by 3\n",
    "num = int(input(\"Enter the number  to check how many times its divided by 3 : \"))\n",
    "count =0\n",
    "while (num>=1):\n",
    "    while(num > 0):\n",
    "        print(num)\n",
    "        num =num -3\n",
    "        count=count+1\n",
    "    \n",
    "print(f\"The given number is divisible by three {count} times\")\n"
   ]
  },
  {
   "cell_type": "raw",
   "id": "983a009b-c80c-43e8-95ce-f65a5873ec3b",
   "metadata": {},
   "source": [
    "Ans 5\n",
    "While loop in python allows to run a block of code until a particular condition is met.\n",
    "If the condition is true the code inside while loop is executed else it comes out of the loop\n",
    "\n",
    "Eg: we want to wait till count down ends to 0 and ten display some message we will use while loop\n",
    "Also example when we want to check if a vending machine has items in stock it will display their names or if not then will display a message stating no items remains\n"
   ]
  },
  {
   "cell_type": "code",
   "execution_count": 7,
   "id": "952a261d-3fea-4487-af62-4383476192fb",
   "metadata": {},
   "outputs": [
    {
     "name": "stdout",
     "output_type": "stream",
     "text": [
      "* \n",
      "* * \n",
      "* * * \n",
      "* * * * \n",
      "* * * * * \n"
     ]
    }
   ],
   "source": [
    "##3while loops patters as below\n",
    "##Program to print right angle triangle star\n",
    "i=1\n",
    "while i<=5:\n",
    "    j=1\n",
    "    while j<=i:\n",
    "        print(\"*\",end=\" \")\n",
    "        j=j+1\n",
    "    print(\"\")\n",
    "    i=i+1\n"
   ]
  },
  {
   "cell_type": "code",
   "execution_count": 8,
   "id": "41e0449e-394a-4826-92a1-546ec2910aac",
   "metadata": {},
   "outputs": [
    {
     "name": "stdout",
     "output_type": "stream",
     "text": [
      "* * * * * \n",
      "* * * * \n",
      "* * * \n",
      "* * \n",
      "* \n"
     ]
    }
   ],
   "source": [
    "### 2. Program to print right triangle upside down\n",
    "\n",
    "i=5\n",
    "while i>=1:\n",
    "    j=i\n",
    "    while j>=1:\n",
    "        print(\"*\",end=\" \")\n",
    "        j=j-1\n",
    "    print(\"\")\n",
    "    i=i-1\n"
   ]
  },
  {
   "cell_type": "code",
   "execution_count": 9,
   "id": "80f181eb-30fa-4ded-938e-a35a75a1b4df",
   "metadata": {},
   "outputs": [
    {
     "name": "stdin",
     "output_type": "stream",
     "text": [
      "Enter the number  of rows:  5\n"
     ]
    },
    {
     "name": "stdout",
     "output_type": "stream",
     "text": [
      "    *\n",
      "   ***\n",
      "  *****\n",
      " *******\n",
      "*********\n"
     ]
    }
   ],
   "source": [
    " ##Program to print star pyramid with rows count input taken from user\n",
    "numRows = int(input(\"Enter the number  of rows: \"))\n",
    "\n",
    "row = 0\n",
    "while(row < numRows):\n",
    "    row += 1\n",
    "    spaces = numRows - row\n",
    "\n",
    "    spaces_counter = 0\n",
    "    while(spaces_counter < spaces):\n",
    "        print(\" \", end='')\n",
    "        spaces_counter += 1\n",
    "\n",
    "    num_stars = 2*row-1\n",
    "    while(num_stars > 0):\n",
    "        print(\"*\", end='')\n",
    "        num_stars -= 1\n",
    "\n",
    "    print()\n",
    "\n"
   ]
  },
  {
   "cell_type": "code",
   "execution_count": null,
   "id": "0438735f-9b7c-4ec3-969f-4d27628efd18",
   "metadata": {},
   "outputs": [],
   "source": []
  }
 ],
 "metadata": {
  "kernelspec": {
   "display_name": "Python 3 (ipykernel)",
   "language": "python",
   "name": "python3"
  },
  "language_info": {
   "codemirror_mode": {
    "name": "ipython",
    "version": 3
   },
   "file_extension": ".py",
   "mimetype": "text/x-python",
   "name": "python",
   "nbconvert_exporter": "python",
   "pygments_lexer": "ipython3",
   "version": "3.10.8"
  }
 },
 "nbformat": 4,
 "nbformat_minor": 5
}
