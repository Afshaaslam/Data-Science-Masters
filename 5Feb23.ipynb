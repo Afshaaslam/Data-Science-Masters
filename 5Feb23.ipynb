{
 "cells": [
  {
   "cell_type": "markdown",
   "id": "e4d413a0-7c0f-4f02-bb45-3aba2e4a4311",
   "metadata": {},
   "source": [
    "Class and objects with example"
   ]
  },
  {
   "cell_type": "markdown",
   "id": "8b3a38cd-f810-42ab-9079-e53a0256ea83",
   "metadata": {},
   "source": [
    "\n",
    "A1 \n",
    "CLass: is a blueprint or a prototype.\n",
    "It is a collection of objects from which objects can be created.\n",
    "It has attribiutes.\n",
    "To understand this lets take an example of class as a sketch of a house which has all details about floors, doors, windows etcand based on this decsription we build house (object) or many houses.\n",
    "\n",
    "Class allows code reusability & increases its modularity .\n",
    "\n",
    "Classes are created by keyword class.\n",
    "Attributes are the variables that belong to a class.\n",
    "Attributes are always public and can be accessed using the dot (.) operator. Eg.: Myclass.Myattribute\n",
    "Class Definition Syntax:\n",
    "\n",
    "class House:\n",
    "    name =''\n",
    "    floor=0\n",
    "    windows= 0\n",
    "    doors=0\n",
    "   \n",
    "   Now ,\n",
    "   Object: is an entity which has a state(attribute reflecting the property) and a behaviour(methods) associated with it. An object is an instance of a class. Suppose Bike is a class  we can create its object like house1, house2\n",
    "   using syntax house1=House()\n",
    "   and access the class attributes using object like\n",
    "   house1.name=\"Raheja Vista\"\n",
    "   \n",
    "   and acces it as\n",
    "   print(f\"House Name :  {house1.name}, Floor: {house1.floor}\")\n",
    "   \n",
    "   \n",
    "   "
   ]
  },
  {
   "cell_type": "code",
   "execution_count": 4,
   "id": "b323a391-5b29-4f7c-b486-95ee2a1b4638",
   "metadata": {},
   "outputs": [
    {
     "name": "stdout",
     "output_type": "stream",
     "text": [
      "House Name :  Raheja Vistas Premium, Floor: 5\n"
     ]
    }
   ],
   "source": [
    "class House: \n",
    "    name ='Raheja Vistas Premium' \n",
    "    floor=5 \n",
    "    windows=5 \n",
    "    doors=3\n",
    "\n",
    "house1=House()\n",
    "print(f\"House Name :  {house1.name}, Floor: {house1.floor}\")\n"
   ]
  },
  {
   "cell_type": "markdown",
   "id": "d4b1865d-1ee7-4557-9415-79190820eece",
   "metadata": {},
   "source": [
    "A2: \n",
    "Pillars of OOPs are:\n",
    "Encapsulation.\n",
    "Inheritance.\n",
    "Polymorphism.\n",
    "Abstraction."
   ]
  },
  {
   "cell_type": "markdown",
   "id": "bb9b782a-5442-49b8-8654-afa6dff546f2",
   "metadata": {},
   "source": [
    "A3 use of __init()__\n",
    "inbuilt method acts as a constructor\n",
    "It is declared within a class and is used to initialize the attributes of an object as soon as the object is formed.\n",
    "While giving the definition for an __init__(self) method, a default parameter, named ‘self’ is always passed in its argument. This self represents the object of the class itself\n",
    "Example\n",
    "\n",
    "Note: self is not a keyword its just a reference and we can take any other name convention on behalf of self it will work the same"
   ]
  },
  {
   "cell_type": "code",
   "execution_count": 16,
   "id": "c3a318cd-6301-4581-af4c-d80b7528f249",
   "metadata": {},
   "outputs": [
    {
     "name": "stdout",
     "output_type": "stream",
     "text": [
      "Mr. Sudhanshu  teaches  Data Science\n",
      "Mr. Krish, Teaches Machine Learning\n"
     ]
    }
   ],
   "source": [
    "class Teacher:\n",
    "    \n",
    "    def __init__(self, name, subject):\n",
    "        self.name = name\n",
    "        self.subject = subject\n",
    "     \n",
    "    def show(self):\n",
    "        print(self.name, \" teaches \", self.subject)\n",
    "T = Teacher('Mr. Sudhanshu', \"Data Science\")   # init is invoked here\n",
    "T.show()\n",
    "\n",
    "S=Teacher(\"Mr. Krish\",\"Machine Learning\")\n",
    "print(f\"{S.name}, Teaches {S.subject}\")\n"
   ]
  },
  {
   "cell_type": "markdown",
   "id": "a5b7067c-bc9c-4ced-b575-851a7875cb1a",
   "metadata": {},
   "source": [
    "A4. \n",
    "Use of self is for reference to current instance of the class\n",
    "It is used to access class variables"
   ]
  },
  {
   "cell_type": "markdown",
   "id": "a1d1f1f4-2030-4ceb-bc18-7f24639d53d3",
   "metadata": {},
   "source": [
    "### A5.Inheritance - Types- Examples"
   ]
  },
  {
   "cell_type": "markdown",
   "id": "fe0e1b5a-c57f-4f83-9198-7c62d80fb1fc",
   "metadata": {},
   "source": [
    "Inheritence in OOPs means deriving a new class from an existing class\n",
    "We can reuse the properties of existing class into new class\n",
    "SO basically this helps to resue code, reduce programmig efforts and increase modularity\n",
    "\n",
    "Types:\n",
    "1 Single\n",
    "2 Multiple\n",
    "3 Multilevel\n",
    "4 Hierarchical\n",
    "5 Hybrid\n"
   ]
  },
  {
   "cell_type": "markdown",
   "id": "7d020a2d-3d91-470a-aaf0-f611954a78bf",
   "metadata": {},
   "source": [
    "## Example:\n",
    "    "
   ]
  },
  {
   "cell_type": "code",
   "execution_count": 18,
   "id": "606080f4-10de-4f58-a563-c7e842fa69ee",
   "metadata": {},
   "outputs": [
    {
     "name": "stdout",
     "output_type": "stream",
     "text": [
      "Amazon is an Online Ecommerce Store\n",
      "Ebay is an Online Store\n",
      "OLX is an Online Buy Sell Store\n"
     ]
    }
   ],
   "source": [
    "#Single\n",
    "class Brands:               #parent_class\n",
    "    brand_name_1 = \"Amazon\"\n",
    "    brand_name_2 = \"Ebay\"\n",
    "    brand_name_3 = \"OLX\"\n",
    "    \n",
    "class Products(Brands):       #child_class\n",
    "    prod_1 = \"Online Ecommerce Store\"\n",
    "    prod_2 = \"Online Store\"\n",
    "    prod_3 = \"Online Buy Sell Store\"\n",
    "    \n",
    "obj_1 = Products()          #Object_creation\n",
    "print(obj_1.brand_name_1+\" is an \"+obj_1.prod_1)\n",
    "print(obj_1.brand_name_2+\" is an \"+obj_1.prod_2)\n",
    "print(obj_1.brand_name_3+\" is an \"+obj_1.prod_3)"
   ]
  },
  {
   "cell_type": "code",
   "execution_count": 8,
   "id": "5f530b93-4095-4b74-8745-dae44974557f",
   "metadata": {},
   "outputs": [
    {
     "name": "stdout",
     "output_type": "stream",
     "text": [
      "Amazon is an Online Ecommerce Store Popularity of 100\n",
      "Ebay is an Online Store Popularity of 70\n",
      "OLX is an Online Buy Sell Store Popularity of 60\n"
     ]
    }
   ],
   "source": [
    "#example_of_multiple_inheritance\n",
    "\n",
    "class Brands:               #parent_class\n",
    "    brand_name_1 = \"Amazon\"\n",
    "    brand_name_2 = \"Ebay\"\n",
    "    brand_name_3 = \"OLX\"\n",
    "    \n",
    "class Products:            #child_class\n",
    "    prod_1 = \"Online Ecommerce Store\"\n",
    "    prod_2 = \"Online Store\"\n",
    "    prod_3 = \"Online Buy Sell Store\"\n",
    "\n",
    "class Popularity(Brands,Products):\n",
    "    prod_1_popularity = 100\n",
    "    prod_2_popularity = 70\n",
    "    prod_3_popularity = 60\n",
    "    \n",
    "obj_1 = Popularity()          #Object_creation\n",
    "print(obj_1.brand_name_1+\" is an \"+obj_1.prod_1+ \" Popularity of\",obj_1.prod_1_popularity)\n",
    "print(obj_1.brand_name_2+\" is an \"+obj_1.prod_2+ \" Popularity of\",obj_1.prod_2_popularity)\n",
    "print(obj_1.brand_name_3+\" is an \"+obj_1.prod_3+ \" Popularity of\",obj_1.prod_3_popularity)\n"
   ]
  },
  {
   "cell_type": "code",
   "execution_count": 19,
   "id": "4228ec4e-f8c6-48eb-8888-d19c98517164",
   "metadata": {},
   "outputs": [
    {
     "name": "stdout",
     "output_type": "stream",
     "text": [
      "M Aslam\n",
      "Grandfather name : M Aslam\n",
      "Father name : Asif\n",
      "Son name : Asad\n"
     ]
    }
   ],
   "source": [
    "# Python program to demonstrate\n",
    "# multilevel inheritance\n",
    " \n",
    "# Base class\n",
    "class Grandfather:\n",
    " \n",
    "    def __init__(self, grandfathername):\n",
    "        self.grandfathername = grandfathername\n",
    " \n",
    "# Intermediate class\n",
    "class Father(Grandfather):\n",
    "    def __init__(self, fathername, grandfathername):\n",
    "        self.fathername = fathername\n",
    " \n",
    "        # invoking constructor of Grandfather class\n",
    "        Grandfather.__init__(self, grandfathername)\n",
    " \n",
    "# Derived class\n",
    "class Son(Father):\n",
    "    def __init__(self, sonname, fathername, grandfathername):\n",
    "        self.sonname = sonname\n",
    " \n",
    "        # invoking constructor of Father class\n",
    "        Father.__init__(self, fathername, grandfathername)\n",
    " \n",
    "    def print_name(self):\n",
    "        print('Grandfather name :', self.grandfathername)\n",
    "        print(\"Father name :\", self.fathername)\n",
    "        print(\"Son name :\", self.sonname)\n",
    " \n",
    " \n",
    "#  Driver code\n",
    "s1 = Son('Asad', 'Asif', 'M Aslam')\n",
    "print(s1.grandfathername)\n",
    "s1.print_name()"
   ]
  },
  {
   "cell_type": "code",
   "execution_count": 21,
   "id": "1cf8f416-6fda-4de6-b2f2-87d96bcb9571",
   "metadata": {},
   "outputs": [
    {
     "name": "stdout",
     "output_type": "stream",
     "text": [
      "This function is in parent class.\n",
      "This function is in child 1.\n",
      "This function is in parent class.\n",
      "This function is in child 2.\n"
     ]
    }
   ],
   "source": [
    "# Python program to demonstrate\n",
    "# Hierarchical inheritance\n",
    " \n",
    " \n",
    "# Base class\n",
    "class Parent:\n",
    "    def func1(self):\n",
    "        print(\"This function is in parent class.\")\n",
    " \n",
    "# Derived class1\n",
    "class Child1(Parent):\n",
    "    def func2(self):\n",
    "        print(\"This function is in child 1.\")\n",
    " \n",
    "# Derivied class2\n",
    "class Child2(Parent):\n",
    "    def func3(self):\n",
    "        print(\"This function is in child 2.\")\n",
    " \n",
    "# Driver's code\n",
    "object1 = Child1()\n",
    "object2 = Child2()\n",
    "object1.func1()\n",
    "object1.func2()\n",
    "object2.func1()\n",
    "object2.func3()"
   ]
  },
  {
   "cell_type": "code",
   "execution_count": null,
   "id": "051b0bd7-f7c8-44a8-9ec4-02e1b33ec3b4",
   "metadata": {},
   "outputs": [],
   "source": []
  }
 ],
 "metadata": {
  "kernelspec": {
   "display_name": "Python 3 (ipykernel)",
   "language": "python",
   "name": "python3"
  },
  "language_info": {
   "codemirror_mode": {
    "name": "ipython",
    "version": 3
   },
   "file_extension": ".py",
   "mimetype": "text/x-python",
   "name": "python",
   "nbconvert_exporter": "python",
   "pygments_lexer": "ipython3",
   "version": "3.10.8"
  }
 },
 "nbformat": 4,
 "nbformat_minor": 5
}
