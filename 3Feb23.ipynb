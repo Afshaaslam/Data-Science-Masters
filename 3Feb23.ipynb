{
 "cells": [
  {
   "cell_type": "code",
   "execution_count": 1,
   "id": "10714c0b-dbfa-4fd7-aa04-a2ba8c2a89aa",
   "metadata": {},
   "outputs": [],
   "source": [
    "##A1 Functions is created using keyword ‘def’\n",
    "##create a function to return a list of odd numbers from 1 to 25\n",
    "def myFunc(n):\n",
    "    for i in range(1,n):\n",
    "        if i%2!=0:\n",
    "          print(i)\n",
    "        i =i+1\n",
    "    return n\n"
   ]
  },
  {
   "cell_type": "code",
   "execution_count": 2,
   "id": "9639ef56-67ea-4b0c-92f5-cc1c94cc22dd",
   "metadata": {},
   "outputs": [
    {
     "name": "stdout",
     "output_type": "stream",
     "text": [
      "1\n",
      "3\n",
      "5\n",
      "7\n",
      "9\n",
      "11\n",
      "13\n",
      "15\n",
      "17\n",
      "19\n",
      "21\n",
      "23\n"
     ]
    },
    {
     "data": {
      "text/plain": [
       "25"
      ]
     },
     "execution_count": 2,
     "metadata": {},
     "output_type": "execute_result"
    }
   ],
   "source": [
    "myFunc(25)"
   ]
  },
  {
   "cell_type": "raw",
   "id": "a8362f67-5b62-4ac3-a403-88892e5717ee",
   "metadata": {},
   "source": [
    "##A2 In order to pass variable(unsure) number of arguments to our function we use these 2 types\n",
    "1 *args\n",
    "2 **kwargs\n",
    "\n",
    "Example below"
   ]
  },
  {
   "cell_type": "code",
   "execution_count": 3,
   "id": "b5003b7c-ac64-4b1d-8e2d-e6422f71f381",
   "metadata": {},
   "outputs": [
    {
     "name": "stdout",
     "output_type": "stream",
     "text": [
      "Sum: 8\n",
      "Sum: 22\n",
      "Sum: 17\n"
     ]
    }
   ],
   "source": [
    "def myadder(*num):\n",
    "    sum = 0\n",
    "    for n in num:\n",
    "        sum = sum + n\n",
    "    print(\"Sum:\",sum)\n",
    "myadder(3,5)\n",
    "myadder(4,5,6,7)\n",
    "myadder(1,2,3,5,6)\n"
   ]
  },
  {
   "cell_type": "raw",
   "id": "e944b600-f20e-427c-b948-a99dc0f356b2",
   "metadata": {},
   "source": [
    "A3 Iterator is an object that allows us to iterate/traverse through list, tuple, dictionary, tuple, sets.\n",
    "_Iter()_method initialize iterator\n",
    "Example method to print the first five elements of the given list [2, 4, 6, 8, 10, 12, 14, 16,\n",
    "18, 20].\n"
   ]
  },
  {
   "cell_type": "code",
   "execution_count": 31,
   "id": "7e8c0425-9464-46a5-8d05-98375245caa6",
   "metadata": {},
   "outputs": [
    {
     "name": "stdout",
     "output_type": "stream",
     "text": [
      "2\n",
      "4\n",
      "6\n",
      "8\n",
      "10\n",
      "12\n",
      "14\n",
      "16\n",
      "18\n",
      "20\n"
     ]
    },
    {
     "ename": "StopIteration",
     "evalue": "",
     "output_type": "error",
     "traceback": [
      "\u001b[0;31m---------------------------------------------------------------------------\u001b[0m",
      "\u001b[0;31mStopIteration\u001b[0m                             Traceback (most recent call last)",
      "Cell \u001b[0;32mIn[31], line 4\u001b[0m\n\u001b[1;32m      2\u001b[0m i \u001b[38;5;241m=\u001b[39m\u001b[38;5;28miter\u001b[39m(lst)\n\u001b[1;32m      3\u001b[0m \u001b[38;5;28;01mwhile\u001b[39;00m (\u001b[38;5;28;01mTrue\u001b[39;00m):\n\u001b[0;32m----> 4\u001b[0m     elmnt \u001b[38;5;241m=\u001b[39m \u001b[38;5;28;43mnext\u001b[39;49m\u001b[43m(\u001b[49m\u001b[43mi\u001b[49m\u001b[43m)\u001b[49m\n\u001b[1;32m      5\u001b[0m     \u001b[38;5;28mprint\u001b[39m(elmnt)\n\u001b[1;32m      6\u001b[0m \u001b[38;5;28;01mraise\u001b[39;00m stopIteration\n",
      "\u001b[0;31mStopIteration\u001b[0m: "
     ]
    }
   ],
   "source": [
    "lst= [2,4,6,8,10,12,14,16,18,20]\n",
    "i =iter(lst)\n",
    "while (True):\n",
    "    elmnt = next(i)\n",
    "    print(elmnt)\n"
   ]
  },
  {
   "cell_type": "raw",
   "id": "14909215-95a9-483d-8352-93a606aed1f1",
   "metadata": {},
   "source": [
    "A4. A generator function helps us to create an iterator for faster access of data.\n",
    "Its like abstract container eg range() function useful in very large data sets and can only be iterated only once.\n",
    "‘yield’ keyword is used to control the flow of generator function, similar to return statement.\n",
    "It signifies the end of execution and return result to caller function\n",
    "Example generator function\n",
    "\n"
   ]
  },
  {
   "cell_type": "code",
   "execution_count": 40,
   "id": "1b351a86-a148-44f9-95e1-62ed2268e5fa",
   "metadata": {},
   "outputs": [],
   "source": [
    "def simple():  \n",
    "    for i in range(10):  \n",
    "        if(i%2==0):  \n",
    "             yield i  \n",
    "\n"
   ]
  },
  {
   "cell_type": "code",
   "execution_count": 41,
   "id": "b2e8d693-58c0-4f3c-adfc-69c988f7b63c",
   "metadata": {},
   "outputs": [
    {
     "name": "stdout",
     "output_type": "stream",
     "text": [
      "0\n",
      "2\n",
      "4\n",
      "6\n",
      "8\n"
     ]
    }
   ],
   "source": [
    "#Successive Function call using for loop  \n",
    "for i in simple():  \n",
    "    print(i)  "
   ]
  },
  {
   "cell_type": "code",
   "execution_count": 42,
   "id": "3cea9782-8494-41eb-af19-d2c2bc826092",
   "metadata": {},
   "outputs": [],
   "source": [
    "##A5.\n",
    "##create a generator function for prime numbers less than 1000. \n",
    "##Use the next() method to print the first 20 prime numbers\n",
    "def genprime(a):\n",
    "    for i in range(1,a):\n",
    "        for j in range(2,(i+1)):\n",
    "            if i%j==0:\n",
    "                if i==j:\n",
    "                    yield(i)\n",
    "                break\n"
   ]
  },
  {
   "cell_type": "code",
   "execution_count": 43,
   "id": "19165a88-a828-4454-907b-e38a8c7cd40e",
   "metadata": {},
   "outputs": [
    {
     "name": "stdout",
     "output_type": "stream",
     "text": [
      "2\n",
      "3\n",
      "5\n",
      "7\n",
      "11\n",
      "13\n",
      "17\n",
      "19\n",
      "23\n",
      "29\n",
      "31\n",
      "37\n",
      "41\n",
      "43\n",
      "47\n",
      "53\n",
      "59\n",
      "61\n",
      "67\n",
      "71\n",
      "73\n",
      "79\n",
      "83\n",
      "89\n",
      "97\n",
      "101\n",
      "103\n",
      "107\n",
      "109\n",
      "113\n",
      "127\n",
      "131\n",
      "137\n",
      "139\n",
      "149\n",
      "151\n",
      "157\n",
      "163\n",
      "167\n",
      "173\n",
      "179\n",
      "181\n",
      "191\n",
      "193\n",
      "197\n",
      "199\n",
      "211\n",
      "223\n",
      "227\n",
      "229\n",
      "233\n",
      "239\n",
      "241\n",
      "251\n",
      "257\n",
      "263\n",
      "269\n",
      "271\n",
      "277\n",
      "281\n",
      "283\n",
      "293\n",
      "307\n",
      "311\n",
      "313\n",
      "317\n",
      "331\n",
      "337\n",
      "347\n",
      "349\n",
      "353\n",
      "359\n",
      "367\n",
      "373\n",
      "379\n",
      "383\n",
      "389\n",
      "397\n",
      "401\n",
      "409\n",
      "419\n",
      "421\n",
      "431\n",
      "433\n",
      "439\n",
      "443\n",
      "449\n",
      "457\n",
      "461\n",
      "463\n",
      "467\n",
      "479\n",
      "487\n",
      "491\n",
      "499\n",
      "503\n",
      "509\n",
      "521\n",
      "523\n",
      "541\n",
      "547\n",
      "557\n",
      "563\n",
      "569\n",
      "571\n",
      "577\n",
      "587\n",
      "593\n",
      "599\n",
      "601\n",
      "607\n",
      "613\n",
      "617\n",
      "619\n",
      "631\n",
      "641\n",
      "643\n",
      "647\n",
      "653\n",
      "659\n",
      "661\n",
      "673\n",
      "677\n",
      "683\n",
      "691\n",
      "701\n",
      "709\n",
      "719\n",
      "727\n",
      "733\n",
      "739\n",
      "743\n",
      "751\n",
      "757\n",
      "761\n",
      "769\n",
      "773\n",
      "787\n",
      "797\n",
      "809\n",
      "811\n",
      "821\n",
      "823\n",
      "827\n",
      "829\n",
      "839\n",
      "853\n",
      "857\n",
      "859\n",
      "863\n",
      "877\n",
      "881\n",
      "883\n",
      "887\n",
      "907\n",
      "911\n",
      "919\n",
      "929\n",
      "937\n",
      "941\n",
      "947\n",
      "953\n",
      "967\n",
      "971\n",
      "977\n",
      "983\n",
      "991\n",
      "997\n"
     ]
    }
   ],
   "source": [
    "for i in genprime(1000):\n",
    "    print (i)\n"
   ]
  },
  {
   "cell_type": "code",
   "execution_count": null,
   "id": "fdc583c0-062c-407c-9684-eaac96fd6a23",
   "metadata": {},
   "outputs": [],
   "source": []
  }
 ],
 "metadata": {
  "kernelspec": {
   "display_name": "Python 3 (ipykernel)",
   "language": "python",
   "name": "python3"
  },
  "language_info": {
   "codemirror_mode": {
    "name": "ipython",
    "version": 3
   },
   "file_extension": ".py",
   "mimetype": "text/x-python",
   "name": "python",
   "nbconvert_exporter": "python",
   "pygments_lexer": "ipython3",
   "version": "3.10.8"
  }
 },
 "nbformat": 4,
 "nbformat_minor": 5
}
