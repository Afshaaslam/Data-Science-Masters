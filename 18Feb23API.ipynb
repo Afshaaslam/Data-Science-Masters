{
 "cells": [
  {
   "cell_type": "markdown",
   "id": "0ddf830e-3f46-4a7d-bdcc-b575310697f7",
   "metadata": {},
   "source": [
    "Q1. What is an API? Give an example, where an API is used in real life.\n",
    "Ans. API stands for 'Application Programming Interface',which is a set of definitions and protocols for building and integrating application software.\n",
    "This application software is used as a web application to connect user front end(client) and complex backend functionality (server).APIs ensure that distinct software work in unison.\n",
    "Hence, APIs provide developers with greater flexibility, enabling them to choose the best programming languages and frameworks for their needs.\n",
    "\n",
    "Example: Data sync in our phone devices, ChatBots, Google Maps, E-Commerce, Payment gateways etc\n",
    "are few of the real examples where APIs are used in our daily life"
   ]
  },
  {
   "cell_type": "markdown",
   "id": "d6a0fbea-eff3-4a7b-a99e-46774d7ea0d5",
   "metadata": {},
   "source": [
    "Q2. Give advantages and disadvantages of using API.\n",
    "Ans.Advantages:\n",
    "1 It decouples the front end and back end by communicating through API rather then directly.SP they are completely independent.\n",
    "2 Improved compatibility and accessibility as we only need to understand the API protocols.\n",
    "3 Faster and agile development, as the front and Back ends can work in parallel.\n",
    "4 Simpler to test and maintain as each component connects to API and communicates on its own so the modular approach makes it easier to test and maintain.\n",
    "5 Easier scalability as API architechture provides plug in services when required and remove when not needed.\n",
    "\n",
    "Disadvantages:\n",
    "1 Adds to management burden if not automated, as the number increases and need to be monitored which means more infrastructure needed.\n",
    "2 unsecured APIs comes easily to attention of hackers so security could eb a concern\n",
    "3 Everyone from developer to tester need to be familier with how API works, it my require more trainign and upskilling the team\n"
   ]
  },
  {
   "cell_type": "markdown",
   "id": "a183df60-2ec8-4354-bc22-001875234e8b",
   "metadata": {},
   "source": [
    "Q3. What is a Web API? Differentiate between API and Web API.\n",
    "Ans.\n",
    "Both APIs and web services are technologies that enable the transfer of data between separate software applications. API is an interface that exposes an application's data to outside software, whereas web applications are one type of API with stricter requirements.\n",
    "\n"
   ]
  },
  {
   "cell_type": "markdown",
   "id": "e3662ab9-de0d-464c-b4f9-72dc6ea66af9",
   "metadata": {},
   "source": [
    "Q4. Explain REST and SOAP Architecture. Mention shortcomings of SOAP.\n",
    "Ans.The SOAP approach is highly structured and uses XML data format. \n",
    "REST is more flexible and allows applications to exchange data in multiple formats\n",
    "\n",
    "Shortcomings of SOAP\n",
    "1 API Calls are not Cached. \n",
    "2 SOAP is substantially more sophisticated than REST. So SOAP is more complicated\n",
    "3 Supports only XML\n",
    "4 Slower than REST as it requires more bandwidth due to its complexity"
   ]
  },
  {
   "cell_type": "markdown",
   "id": "29017d58-9c92-4fbd-98ff-58453c62b717",
   "metadata": {},
   "source": [
    "Q5. Differentiate between REST and SOAP.\n",
    "Ans.\n",
    "1 REST supports formats like HTML, JSON, YAML, XML, and more while SOAP supports only XML format\n",
    "2 SOAP is more sophesticated than REST \n",
    "3 SOAP is slower than REST and consumes more bandwidth due to its complexity\n",
    "4 REST is more flexible and scalable.\n",
    "5 REST accesses data, whereas SOAP executes activities using a more standardized set of communications standards.\n",
    "6 SOAP should be used for asynchronous and stateful operations while REST should be used for caching, stateles operations where limited bandwidth and resources are there.\n",
    "\n",
    "\n",
    "SOAP is naturally preferred by those wishing to construct enterprise-level web services because of its robust security features. eg payPal\n",
    "\n",
    "REST APIs are provided by all of the major social media platforms like twitter etc\n",
    "\n",
    "Both SOAP and REST have advantages and disadvantages. The degree to which one is superior to the other is primarily determined by the needs of the organization"
   ]
  }
 ],
 "metadata": {
  "kernelspec": {
   "display_name": "Python 3 (ipykernel)",
   "language": "python",
   "name": "python3"
  },
  "language_info": {
   "codemirror_mode": {
    "name": "ipython",
    "version": 3
   },
   "file_extension": ".py",
   "mimetype": "text/x-python",
   "name": "python",
   "nbconvert_exporter": "python",
   "pygments_lexer": "ipython3",
   "version": "3.10.8"
  }
 },
 "nbformat": 4,
 "nbformat_minor": 5
}
