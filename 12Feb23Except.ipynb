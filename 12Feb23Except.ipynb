{
 "cells": [
  {
   "cell_type": "markdown",
   "id": "5e6a4957-665c-491d-af32-ba30bd5d2a15",
   "metadata": {},
   "source": [
    "A1\n",
    "Exceptions :Exceptions are a type of runtime errors interrupting the normal flow of a program.\n",
    "            They can be handled in runtime using 'try' and  'except' blocks.\n",
    "\n",
    "Difference Between exceptions ans syntax errors:\n",
    "\n",
    "1 syntax Errors are critical issues which normal application should not catch while exception is a condition that should be caught and handled\n",
    "\n",
    "2 Exception could be a delibrate act while error is incorrect act.\n",
    "\n",
    "3 Syntax error means when parser does not understands a source code or when program does not confirm to the rules of the programming language while exception is abnormal even occuring due to runtime rule defying eg divide by 'Zero' exception or accessing an out of bbound array element Tis is also known as semantic errors.\n"
   ]
  },
  {
   "cell_type": "markdown",
   "id": "a22d7a00-237d-40c8-a6ed-40c0531771b9",
   "metadata": {},
   "source": [
    "A2 If the Exception is not handled properly, the program terminates abruptly and the code past the line that caused the exception will not get executed\n",
    "eg:"
   ]
  },
  {
   "cell_type": "code",
   "execution_count": 8,
   "id": "e37a2747-ad7e-4425-82d6-11224542ea2e",
   "metadata": {},
   "outputs": [
    {
     "name": "stdin",
     "output_type": "stream",
     "text": [
      " 4\n",
      " 0\n"
     ]
    },
    {
     "ename": "ZeroDivisionError",
     "evalue": "division by zero",
     "output_type": "error",
     "traceback": [
      "\u001b[0;31m---------------------------------------------------------------------------\u001b[0m",
      "\u001b[0;31mZeroDivisionError\u001b[0m                         Traceback (most recent call last)",
      "Cell \u001b[0;32mIn[8], line 9\u001b[0m\n\u001b[1;32m      6\u001b[0m     \u001b[38;5;28;01mpass\u001b[39;00m\n\u001b[1;32m      7\u001b[0m     \u001b[38;5;66;03m##raise Exception( 'Divisor should not be Zero. The value of divisor was: {}'.format(y))##handled exception\u001b[39;00m\n\u001b[0;32m----> 9\u001b[0m a\u001b[38;5;241m=\u001b[39m\u001b[43mx\u001b[49m\u001b[38;5;241;43m/\u001b[39;49m\u001b[43my\u001b[49m\n\u001b[1;32m     10\u001b[0m \u001b[38;5;28mprint\u001b[39m(\u001b[38;5;124mf\u001b[39m\u001b[38;5;124m\"\u001b[39m\u001b[38;5;132;01m{\u001b[39;00mx\u001b[38;5;132;01m}\u001b[39;00m\u001b[38;5;124m/\u001b[39m\u001b[38;5;132;01m{\u001b[39;00my\u001b[38;5;132;01m}\u001b[39;00m\u001b[38;5;124m = \u001b[39m\u001b[38;5;132;01m{\u001b[39;00ma\u001b[38;5;132;01m}\u001b[39;00m\u001b[38;5;124m\"\u001b[39m)\n",
      "\u001b[0;31mZeroDivisionError\u001b[0m: division by zero"
     ]
    }
   ],
   "source": [
    "x=int(input())\n",
    "y=int(input())\n",
    "a=1\n",
    "\n",
    "if y==0:\n",
    "    pass\n",
    "    ##raise Exception( 'Divisor should not be Zero. The value of divisor was: {}'.format(y))##handled exception\n",
    "\n",
    "a=x/y\n",
    "print(f\"{x}/{y} = {a}\")"
   ]
  },
  {
   "cell_type": "code",
   "execution_count": 6,
   "id": "7dc2e867-7690-42ab-a29d-0c1b0b8d48e7",
   "metadata": {},
   "outputs": [
    {
     "name": "stdin",
     "output_type": "stream",
     "text": [
      " 4\n",
      " 0\n"
     ]
    },
    {
     "name": "stdout",
     "output_type": "stream",
     "text": [
      "Error: Denominator cannot be 0.\n"
     ]
    }
   ],
   "source": [
    "## A3. try and except code block is used to catch and handle exceptions\n",
    "try:\n",
    "    x = int(input())\n",
    "    y = int(input())\n",
    "\n",
    "    ans = x/y\n",
    "\n",
    "    print(ans)\n",
    "except:\n",
    "    print(\"Error: Denominator cannot be 0.\")"
   ]
  },
  {
   "cell_type": "markdown",
   "id": "31ad17ab-0018-499b-ab4a-00895e017094",
   "metadata": {},
   "source": [
    "A4. \n",
    "1. try and else\n",
    "Try: This block will test the excepted error to occur\n",
    "Except:  Here you can handle the error\n",
    "Else: If there is no exception then this block will be executed\n",
    " \n",
    "2.finally:  Finally block always gets executed either exception is generated or not\n",
    "\n",
    "3.raise : This keyword is used to raise exceptions or errors. It raises error and stops the flow of program.\n"
   ]
  },
  {
   "cell_type": "code",
   "execution_count": 11,
   "id": "6dfb3492-6f06-4400-a26c-a68f26394717",
   "metadata": {},
   "outputs": [
    {
     "name": "stdout",
     "output_type": "stream",
     "text": [
      "The answer is  1\n",
      "This s always executed\n",
      "\n",
      "Sorry ! You are dividing by zero \n",
      "This s always executed\n",
      "\n"
     ]
    }
   ],
   "source": [
    "##ex: try-except-else-finally\n",
    "def divide(x, y):\n",
    "    try: \n",
    "        result = x // y\n",
    "    except ZeroDivisionError:\n",
    "        print(\"Sorry ! You are dividing by zero \")\n",
    "    else:\n",
    "        print(\"The answer is \", result)\n",
    "    finally:\n",
    "        print(\"This s always executed\\n\")\n",
    "divide(3, 2)\n",
    "divide(3, 0)"
   ]
  },
  {
   "cell_type": "code",
   "execution_count": 14,
   "id": "86a7ad0b-90c5-4dd3-8b42-eb6be79334cc",
   "metadata": {},
   "outputs": [
    {
     "name": "stdin",
     "output_type": "stream",
     "text": [
      " 3\n",
      " 2\n"
     ]
    },
    {
     "name": "stdout",
     "output_type": "stream",
     "text": [
      "Answer 3/2 = 1.5\n"
     ]
    }
   ],
   "source": [
    "##Raise example\n",
    "x=int(input())\n",
    "y=int(input())\n",
    "a=1\n",
    "\n",
    "if y==0:\n",
    "    pass\n",
    "    raise Exception( 'Divisor should not be Zero. The value of divisor was: {}'.format(y))##handled exception\n",
    "\n",
    "a=x/y\n",
    "print(f\"Answer {x}/{y} = {a}\")"
   ]
  },
  {
   "cell_type": "markdown",
   "id": "239d4d1c-4126-4984-a7d4-8b4000adbfa7",
   "metadata": {},
   "source": [
    "A5\n",
    " Custom exceptions allows you to add attributes and methods that are not part of a standard python exceptions.\n",
    " It makes our code robust and helps figure what went wrong."
   ]
  },
  {
   "cell_type": "code",
   "execution_count": 20,
   "id": "5be66eca-5436-4066-8958-59d80fe77168",
   "metadata": {},
   "outputs": [
    {
     "name": "stdin",
     "output_type": "stream",
     "text": [
      "Enter your age:  22\n"
     ]
    },
    {
     "name": "stdout",
     "output_type": "stream",
     "text": [
      "Congratulations !! You are Eligible to Vote\n"
     ]
    }
   ],
   "source": [
    "## example of user-defined exceptions\n",
    "class InvalidAgeException(Exception):\n",
    "    pass\n",
    "age = 18\n",
    "\n",
    "try:\n",
    "    input_num = int(input(\"Enter your age: \"))\n",
    "    if input_num < age:\n",
    "        raise InvalidAgeException\n",
    "    else:\n",
    "        print(\"Congratulations !! You are Eligible to Vote\")\n",
    "        \n",
    "except InvalidAgeException:\n",
    "    print(\"Exception occurred: Invalid Age\")"
   ]
  },
  {
   "cell_type": "code",
   "execution_count": 31,
   "id": "35cf56f8-7752-48a0-8e2c-ab36c76dfbe7",
   "metadata": {},
   "outputs": [
    {
     "name": "stdin",
     "output_type": "stream",
     "text": [
      "Enter salary amount:  9999\n"
     ]
    }
   ],
   "source": [
    "## A6.\n",
    "class SalaryNotInRangeError(Exception):\n",
    "\n",
    "    def __init__(self, salary, message=\"Salary is not in (5000, 10000) range\"):\n",
    "        self.salary = salary\n",
    "        self.message = message\n",
    "        super().__init__(self.message)\n",
    "\n",
    "    \n",
    "salary = int(input(\"Enter salary amount: \"))\n",
    "if not 5000 < salary < 10000:\n",
    "    raise SalaryNotInRangeError(salary)"
   ]
  },
  {
   "cell_type": "code",
   "execution_count": null,
   "id": "49d32905-b4d1-4629-993a-f5b4e0c8ebf3",
   "metadata": {},
   "outputs": [],
   "source": []
  }
 ],
 "metadata": {
  "kernelspec": {
   "display_name": "Python 3 (ipykernel)",
   "language": "python",
   "name": "python3"
  },
  "language_info": {
   "codemirror_mode": {
    "name": "ipython",
    "version": 3
   },
   "file_extension": ".py",
   "mimetype": "text/x-python",
   "name": "python",
   "nbconvert_exporter": "python",
   "pygments_lexer": "ipython3",
   "version": "3.10.8"
  }
 },
 "nbformat": 4,
 "nbformat_minor": 5
}
