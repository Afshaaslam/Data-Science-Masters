{
 "cells": [
  {
   "cell_type": "markdown",
   "id": "38b8ad05-2e51-4bcb-b0c3-8fe9a0e9420c",
   "metadata": {},
   "source": [
    "#### A1 and A2"
   ]
  },
  {
   "cell_type": "code",
   "execution_count": 79,
   "id": "2bb79faf-6a00-46b4-8746-22c600507573",
   "metadata": {},
   "outputs": [],
   "source": [
    "## Encapsulation\n",
    "class vehicle:\n",
    "    def __init__(self, name_of_vehicle,max_speed,avg_of_vehicle):\n",
    "        self.__name=name_of_vehicle\n",
    "        self.__speed=max_speed\n",
    "        self.__avg=avg_of_vehicle\n",
    "    \n",
    "    def seatingcapacity(self,capacity):\n",
    "        return(f\"The seating capacity of {self.__name} is {capacity} passengers\")\n",
    "\n",
    "class car(vehicle):\n",
    "    pass"
   ]
  },
  {
   "cell_type": "code",
   "execution_count": 80,
   "id": "f5b0c0a4-6394-4136-8b3a-824135fe6225",
   "metadata": {},
   "outputs": [
    {
     "data": {
      "text/plain": [
       "'The seating capacity of Merc is 10 passengers'"
      ]
     },
     "execution_count": 80,
     "metadata": {},
     "output_type": "execute_result"
    }
   ],
   "source": [
    "obj_car= car('Merc',400,100)\n",
    "obj_car.seatingcapacity(10)"
   ]
  },
  {
   "cell_type": "markdown",
   "id": "13f1689f-464c-4e7e-8a54-876deebac7bd",
   "metadata": {},
   "source": [
    "#### A3. What is multiple inheritance? Write a python code to demonstrate multiple inheritance."
   ]
  },
  {
   "cell_type": "markdown",
   "id": "99d2eb8f-0770-481a-a9b7-a8b73781b72c",
   "metadata": {},
   "source": [
    "Multiple Inheritence is where the child class or object inherits the methods and attributes from one or more parent classes."
   ]
  },
  {
   "cell_type": "code",
   "execution_count": 95,
   "id": "ac0d67f1-ead0-44f5-b59e-1567e804ec2b",
   "metadata": {},
   "outputs": [
    {
     "name": "stdout",
     "output_type": "stream",
     "text": [
      "This is my class 2\n",
      "This is my class 1\n"
     ]
    }
   ],
   "source": [
    "class class1:\n",
    "    def test_class1(self):\n",
    "        print(\"This is my class 1\")\n",
    "\n",
    "class class2:\n",
    "    def test_class2(self):\n",
    "        print(\"This is my class 2\")\n",
    "\n",
    "class class3(class1, class2):\n",
    "    pass\n",
    "\n",
    "ob_class3= class3()\n",
    "ob_class3.test_class2()\n",
    "ob_class3.test_class1()"
   ]
  },
  {
   "cell_type": "markdown",
   "id": "75ab8354-06fb-42b2-880d-6b7f95656bc1",
   "metadata": {},
   "source": [
    "#### A4 Defining getter and setter in python.\n",
    "#### Create a class and create a getter and a setter method in this class."
   ]
  },
  {
   "cell_type": "markdown",
   "id": "2862719e-8ace-4e9e-bc5d-f89cffd45c03",
   "metadata": {},
   "source": [
    "getter() setter methods helps to achieve encapsulation\n",
    "getter() allows to access an attribute of a class\n",
    "setter() allows to set/mutata the value of an attribute in a class"
   ]
  },
  {
   "cell_type": "code",
   "execution_count": 115,
   "id": "1a303f3b-188b-4f17-b266-ed16566654ff",
   "metadata": {},
   "outputs": [
    {
     "name": "stdout",
     "output_type": "stream",
     "text": [
      "getting age  42\n",
      "getting name  afsha\n"
     ]
    }
   ],
   "source": [
    "class Student:\n",
    "    def __init__(self, age = 0, name='Abc'):\n",
    "        self._age = age\n",
    "        self._name= name\n",
    "      \n",
    "    # getter method\n",
    "    def get_age(self):\n",
    "        return self._age\n",
    "    \n",
    "    def get_name(self):\n",
    "        return self._name\n",
    "      \n",
    "    # setter method\n",
    "    def set_age(self, x):\n",
    "        self._age = x\n",
    "  \n",
    "    def set_name(self, name):\n",
    "        self._name = name\n",
    "ob_student = Student()\n",
    "  \n",
    "# setting the age using setter\n",
    "ob_student.set_age(21)\n",
    "ob_student.set_name(\"Amaira\")\n",
    "  \n",
    "# retrieving age using getter\n",
    "print(f\"getting age  {ob_student.get_age()}\")\n",
    "##print(ob_student._age)\n",
    "\n",
    "print(f\"getting name  {ob_student.get_name()}\")\n",
    "##print(ob_student._name)"
   ]
  },
  {
   "cell_type": "markdown",
   "id": "003ed4c1-2293-42f7-b4a6-8b8d7e193713",
   "metadata": {},
   "source": [
    "#### A5. Method overriding in python, and python code to demonstrate method overriding."
   ]
  },
  {
   "cell_type": "markdown",
   "id": "aef39009-a5b3-461a-8430-ce1cba6bba81",
   "metadata": {},
   "source": [
    " Method overriding means wheen we have two methods with the same name each performs different tasks. It allows us to change or override the Parent Class function in the Child Class."
   ]
  },
  {
   "cell_type": "code",
   "execution_count": 4,
   "id": "68e8006a-88a1-4797-b08f-86f33405f9c4",
   "metadata": {},
   "outputs": [
    {
     "name": "stdout",
     "output_type": "stream",
     "text": [
      "The method Walk is overridden \n",
      "I am the child class named Cat\n",
      "I am the parent class named Animal\n"
     ]
    }
   ],
   "source": [
    "class Animal:\n",
    "    def Walk(self):\n",
    "        print('I am the parent class named Animal')\n",
    "\n",
    "class Cat(Animal):\n",
    "    def Walk(self):\n",
    "        print('I am the child class named Cat')\n",
    "        \n",
    "print('The method Walk is overridden ')\n",
    "\n",
    "#Invoking Child class\n",
    "animal = Cat()\n",
    "animal.Walk()\n",
    "\n",
    "#Invoking Parent class\n",
    "\n",
    "animal = Animal()\n",
    "animal.Walk()"
   ]
  },
  {
   "cell_type": "code",
   "execution_count": null,
   "id": "eb2fa0c2-7e20-4ee9-9d3a-947428c338e6",
   "metadata": {},
   "outputs": [],
   "source": []
  }
 ],
 "metadata": {
  "kernelspec": {
   "display_name": "Python 3 (ipykernel)",
   "language": "python",
   "name": "python3"
  },
  "language_info": {
   "codemirror_mode": {
    "name": "ipython",
    "version": 3
   },
   "file_extension": ".py",
   "mimetype": "text/x-python",
   "name": "python",
   "nbconvert_exporter": "python",
   "pygments_lexer": "ipython3",
   "version": "3.10.8"
  }
 },
 "nbformat": 4,
 "nbformat_minor": 5
}
