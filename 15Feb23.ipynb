{
 "cells": [
  {
   "cell_type": "markdown",
   "id": "83d0efd4-044c-4a4e-812a-f1fb7b60f09f",
   "metadata": {},
   "source": [
    "Q1. What is multiprocessing in python? Why is it useful?\n",
    "Ans. Multiprocessing is the ability of a system to run multiple processors simultaneously.\n",
    "It is useful in heavy computational tasks thus giving  Increased Throughput ,Cost Saving as parallel system shares the memory, buses, peripherals etc. \n",
    "Multiprocessor system thus saves money as compared to multiple single systems.\n",
    "They are more reliable because even if one processor fails the system will not come tohalt"
   ]
  },
  {
   "cell_type": "markdown",
   "id": "26d8a938-f56e-44bc-ae91-f4ef5196c942",
   "metadata": {},
   "source": [
    "Q2. What are the differences between multiprocessing and multithreading?\n",
    "Ans. \n",
    "1.Multiprocessing executes many processes simultaneously, whereas multithreading executes many threads simultaneously.\n",
    "\n",
    "2.Multithreading uses a common address space for all the threads, whereas multiprocessing creates a separate address space for each process.\n",
    "\n",
    "3.Multithreading is quick to create and requires few resources, whereas multiprocessing requires a significant amount of time and specific resources to create.\n",
    "\n",
    "4.Multiprocessing is used to create a more reliable system, whereas multithreading is used to create threads that run parallel to each other.\n",
    "\n",
    "5.Multiprocessing uses two or more CPUs to increase computing power, whereas multithreading uses a single process with multiple code segments to increase computing power.\n",
    "\n",
    "6.Multithreading focuses on generating computing threads from a single process, whereas multiprocessing increases computing power by adding CPUs."
   ]
  },
  {
   "cell_type": "code",
   "execution_count": null,
   "id": "ac1eb736-fd56-4a9e-8062-b41f2b86bf67",
   "metadata": {},
   "outputs": [],
   "source": [
    "Q3. Write a python code to create a process using the multiprocessing module.\n",
    "Ans."
   ]
  },
  {
   "cell_type": "code",
   "execution_count": null,
   "id": "bfb0ec55-8f2a-4bee-9c0a-bd540be9adc4",
   "metadata": {},
   "outputs": [
    {
     "name": "stdout",
     "output_type": "stream",
     "text": [
      "asna\n",
      "khan\n",
      "ahad\n",
      "khan\n",
      "afsha\n",
      "Qd\n",
      "asif\n"
     ]
    }
   ],
   "source": [
    "import multiprocessing\n",
    "\n",
    "def student_input(st_name):\n",
    "    for i in [\"asna\" , \"khan\" , \"ahad\" , \"khan\" ,\"afsha\",\"Qd\"] : \n",
    "        st_name.put(i)\n",
    "\n",
    "def student_output(st_name):\n",
    "    while True :\n",
    "        item = st_name.get()\n",
    "        if item is None :\n",
    "            break \n",
    "        print(item)\n",
    "    \n",
    "if __name__ == \"__main__\":\n",
    "    # creating processes\n",
    "    queue = multiprocessing.Queue()\n",
    "    p1 = multiprocessing.Process(target=student_input, args=(queue, ))\n",
    "    p2 = multiprocessing.Process(target=student_output, args=(queue, ))\n",
    "  \n",
    "    p1.start()\n",
    "    p2.start()\n",
    "    queue.put(\"asif\")\n",
    "    p1.join()\n",
    "    p2.join()\n"
   ]
  },
  {
   "cell_type": "markdown",
   "id": "c7ce4678-589f-40ec-b900-cfdcd5b79f91",
   "metadata": {},
   "source": [
    "Q4. What is a multiprocessing pool in python? Why is it used?\n",
    "Ans. Python multiprocessing Pool can be used for parallel execution of a function across multiple input values, distributing the input data across processes."
   ]
  },
  {
   "cell_type": "markdown",
   "id": "3165b119-bb1b-4fa5-acf9-bea42d4e26c4",
   "metadata": {},
   "source": [
    "Q5. How can we create a pool of worker processes in python using the multiprocessing module?\n",
    "Ans. The Pool object offers a convenient means of parallelizing the execution of a function across multiple input values ,thus distributing the input data across processes (data parallelism).\n",
    "Eg:"
   ]
  },
  {
   "cell_type": "code",
   "execution_count": 2,
   "id": "e30ce739-5b31-424d-b261-d9290bf5be7c",
   "metadata": {},
   "outputs": [
    {
     "name": "stdout",
     "output_type": "stream",
     "text": [
      "[1, 4, 9]\n"
     ]
    }
   ],
   "source": [
    "from multiprocessing import Pool\n",
    "\n",
    "def func(x):\n",
    "    return x*x\n",
    "\n",
    "if __name__ == '__main__':\n",
    "    with Pool(5) as p:\n",
    "        print(p.map(func, [1, 2, 3]))"
   ]
  },
  {
   "cell_type": "markdown",
   "id": "160e2392-db50-4fc9-99d8-307869fd867e",
   "metadata": {},
   "source": [
    "Q6. Write a python program to create 4 processes, each process should print a different number using the\n",
    "multiprocessing module in python"
   ]
  },
  {
   "cell_type": "code",
   "execution_count": 10,
   "id": "227c17a8-c128-4820-8788-2da0c0deefe8",
   "metadata": {},
   "outputs": [
    {
     "name": "stdout",
     "output_type": "stream",
     "text": [
      "[1, 3, 4]\n",
      "[2, 5, 6, 7]\n",
      "19\n",
      "40\n"
     ]
    }
   ],
   "source": [
    "import multiprocessing\n",
    "\n",
    "\n",
    "def num(n):\n",
    "    print(n)\n",
    "\n",
    "    \n",
    "if __name__ == \"__main__\":\n",
    "    # creating processes\n",
    "    p1 = multiprocessing.Process(target=num, args=([1,3,4], ))\n",
    "    p2 = multiprocessing.Process(target=num, args=([2,5,6,7], ))\n",
    "    p3 = multiprocessing.Process(target=num, args=(19, ))\n",
    "    p4 = multiprocessing.Process(target=num, args=(40, ))\n",
    "  \n",
    "    p1.start()\n",
    "    p2.start()\n",
    "    p3.start()\n",
    "    p4.start()\n",
    "    p1.join()\n",
    "    p2.join()\n"
   ]
  },
  {
   "cell_type": "code",
   "execution_count": null,
   "id": "2c950f2f-07ff-43ce-8b84-6882476258c5",
   "metadata": {},
   "outputs": [],
   "source": []
  }
 ],
 "metadata": {
  "kernelspec": {
   "display_name": "Python 3 (ipykernel)",
   "language": "python",
   "name": "python3"
  },
  "language_info": {
   "codemirror_mode": {
    "name": "ipython",
    "version": 3
   },
   "file_extension": ".py",
   "mimetype": "text/x-python",
   "name": "python",
   "nbconvert_exporter": "python",
   "pygments_lexer": "ipython3",
   "version": "3.10.8"
  }
 },
 "nbformat": 4,
 "nbformat_minor": 5
}
