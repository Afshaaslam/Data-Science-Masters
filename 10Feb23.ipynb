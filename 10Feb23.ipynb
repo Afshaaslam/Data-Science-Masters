{
 "cells": [
  {
   "cell_type": "markdown",
   "id": "c7b51209-6c25-4b73-8e12-b7c5524cbe7d",
   "metadata": {},
   "source": [
    "## A1. File opening function and its modes"
   ]
  },
  {
   "cell_type": "code",
   "execution_count": 2,
   "id": "13c8cbbd-7fd1-4d25-acd8-ca1894d847da",
   "metadata": {},
   "outputs": [],
   "source": [
    "file1 = open(\"test.txt\", \"w\")"
   ]
  },
  {
   "cell_type": "markdown",
   "id": "576de0c2-3b00-4bb8-bdf8-d1e0b311bef6",
   "metadata": {},
   "source": [
    "Modes\n",
    "'r'       open for reading (default)\n",
    "'w'       open for writing, truncating the file first\n",
    "'x'       create a new file and open it for writing\n",
    "'a'       open for writing, appending to the end of the file if it exists\n",
    "'b'       binary mode\n",
    "'t'       text mode (default)\n",
    "'+'       open a disk file for updating (reading "
   ]
  },
  {
   "cell_type": "markdown",
   "id": "2fb25440-10a0-4f0c-a2a0-2c1131fa3d6f",
   "metadata": {},
   "source": [
    "## A2. close() method closes the opened file.\n",
    " Closing file helps avoid hard-to-debug issues like running out of file handles or experiencing corrupted data.\n",
    " It also minimizes virtual machine resource usage and eeps shard files available for others to use."
   ]
  },
  {
   "cell_type": "code",
   "execution_count": 11,
   "id": "aa2fdfee-20f0-4192-a151-b4ae15e14f1d",
   "metadata": {},
   "outputs": [
    {
     "data": {
      "text/plain": [
       "'I wa'"
      ]
     },
     "execution_count": 11,
     "metadata": {},
     "output_type": "execute_result"
    }
   ],
   "source": [
    "##A3. Write a python program to create a text file. Write ‘I want to become a Data Scientist’ in that file. Then\n",
    "##close the file. Open this file and read the content of the file.\n",
    "\n",
    "f = open(\"myfile.txt\",'w')\n",
    "f.write(\"I want to become a Data Scientist \")\n",
    "f.close()\n",
    "data= open(\"myfile.txt\",'r')\n",
    "data.read()"
   ]
  },
  {
   "cell_type": "code",
   "execution_count": 36,
   "id": "eede29d8-bbb0-4058-bf6c-1265420da2d9",
   "metadata": {},
   "outputs": [
    {
     "data": {
      "text/plain": [
       "'Hello Everyone\\nHow are you all'"
      ]
     },
     "execution_count": 36,
     "metadata": {},
     "output_type": "execute_result"
    }
   ],
   "source": [
    "#A4. code to explain: read(), readline() and readlines()\n",
    "##read() method reads the content of the file at once and print only specified number of characters in braces\n",
    "##readline() method will return a single line from the file when called.\n",
    "##readlines() method will return all the lines in a file in the format of a list where each element is a line in the file.\n",
    "data = open(\"myfile1.txt\",'r')\n",
    "data.read(30) ##prints upto 30 characters\n",
    "##data.readline() ## prints only one line\n",
    "##data.readlines() ## prints all lines\n"
   ]
  },
  {
   "cell_type": "markdown",
   "id": "f8251724-2ebe-475b-a6be-5544e2b34db1",
   "metadata": {},
   "source": [
    "### A5. If we use 'with' to open a file\n",
    "### we do not need to close the file at the end, because 'with' would automatically close it for us"
   ]
  },
  {
   "cell_type": "code",
   "execution_count": 38,
   "id": "e9e2320d-f2e7-4789-95b4-d6616b652fa2",
   "metadata": {},
   "outputs": [
    {
     "name": "stdout",
     "output_type": "stream",
     "text": [
      "I want to become a Data Scientist \n"
     ]
    }
   ],
   "source": [
    "with open(\"myfile.txt\",'r')as f:\n",
    "    print(f.read())\n"
   ]
  },
  {
   "cell_type": "markdown",
   "id": "91a39630-65c6-452e-a967-32609f673ad3",
   "metadata": {},
   "source": [
    "## A6. write() and writelines() functions with suitable example.\n",
    "write() will write the content in the file without adding any extra characters.Accepts string as argument\n",
    "writelines() writes the content of a list to a file.Acceps string or list of strings as argument\n"
   ]
  },
  {
   "cell_type": "code",
   "execution_count": 41,
   "id": "cacc454e-62a7-409b-a941-9f5a89eee9f3",
   "metadata": {},
   "outputs": [
    {
     "name": "stdin",
     "output_type": "stream",
     "text": [
      "Enter employee name:  afsha\n",
      "Enter employee name:  asna\n",
      "Enter employee name:  ahad\n",
      "Enter employee name:  qd\n"
     ]
    }
   ],
   "source": [
    "file = open(\"Employees.txt\", \"w\")\n",
    "  \n",
    "for i in range(4):\n",
    "   name = input(\"Enter employee name: \")\n",
    "   file.write(name)\n",
    "   file.write(\"\\n\")\n",
    "     \n",
    "file.close()\n",
    "  "
   ]
  },
  {
   "cell_type": "code",
   "execution_count": 46,
   "id": "60598945-52e9-4d99-9c15-bd137a1a9a7c",
   "metadata": {},
   "outputs": [
    {
     "name": "stdin",
     "output_type": "stream",
     "text": [
      "Enter employee name:  ww\n",
      "Enter employee name:  dd\n",
      "Enter employee name:  ff\n"
     ]
    },
    {
     "name": "stdout",
     "output_type": "stream",
     "text": [
      "Data is written into the file.\n"
     ]
    }
   ],
   "source": [
    "file1 =  open(\"Employees_temp.txt\", \"w\")\n",
    "lst = []\n",
    "for i in range(3):\n",
    "    name = input(\"Enter employee name: \")\n",
    "    lst.append(name + '\\n')\n",
    "      \n",
    "file1.writelines(lst)\n",
    "file1.close()\n",
    "print(\"Data is written into the file.\") "
   ]
  },
  {
   "cell_type": "code",
   "execution_count": null,
   "id": "797a7433-539d-47cc-89d1-aca9c115cb38",
   "metadata": {},
   "outputs": [],
   "source": []
  }
 ],
 "metadata": {
  "kernelspec": {
   "display_name": "Python 3 (ipykernel)",
   "language": "python",
   "name": "python3"
  },
  "language_info": {
   "codemirror_mode": {
    "name": "ipython",
    "version": 3
   },
   "file_extension": ".py",
   "mimetype": "text/x-python",
   "name": "python",
   "nbconvert_exporter": "python",
   "pygments_lexer": "ipython3",
   "version": "3.10.8"
  }
 },
 "nbformat": 4,
 "nbformat_minor": 5
}
