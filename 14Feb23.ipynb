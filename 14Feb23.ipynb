{
 "cells": [
  {
   "cell_type": "markdown",
   "id": "2af6117e-219d-440c-9280-212d022bc28d",
   "metadata": {},
   "source": [
    "Q1. What is multithreading in python? why is it used? Name the module used to handle threads in python\n",
    "\n",
    "A1. Multithreading is the ability of a program to enable more than one user at a time without a need to have  multiple programs running at a time. It can handle multiple requests from the same user.\n",
    "It allows concurrent and parallel execution of various tasks.\n",
    "It is used to  efficiently utilise the resources as threads share same memory and data space.It reduces response time and increases performance.\n",
    "\n",
    "The Python standard library provides 'Threading', which contains most of the primitives. Thread, in this module, nicely encapsulates threads, providing a clean interface to work with them."
   ]
  },
  {
   "cell_type": "markdown",
   "id": "1d09c833-e2d8-4b99-828b-5166c9a3cb66",
   "metadata": {},
   "source": [
    "A2. Threading module is used for creating, controlling and managing threads in python.\n",
    "\n",
    "activeCount() method of thread class is used to return the number of active threads in the current thread's thread group. \n",
    "\n",
    "currentThread ()returns a reference to the currently executing thread object. \n",
    "\n",
    "enumerate() allows us to iterate through a sequence but it keeps track of both the index and the element. \n",
    "The enumerate() function takes in an iterable as an argument, such as a list, string, tuple, or dictionary."
   ]
  },
  {
   "cell_type": "markdown",
   "id": "eeb5320d-3024-4094-921a-937e7cd6ddcd",
   "metadata": {},
   "source": [
    "A3.\n",
    "run() method executes any target function belonging to a given thread object that is currently active.\n",
    "\n",
    "start() method is an inbuilt method of the Thread class of the threading module, it is used to start a thread's activity.It calls the run() method internally which then executes the target method. This method must be called at most one time for one thread.\n",
    "\n",
    "isAlive() just returns a boolean that indicates whether the thread is alive.\n",
    "\n",
    "join() makes the current thread to wait until the thread that you're calling"
   ]
  },
  {
   "cell_type": "markdown",
   "id": "6949140c-bcf8-4409-8cfa-18ef1f095c43",
   "metadata": {},
   "source": [
    "A4. Python program to create two threads. \n",
    "Thread one must print the list of squares and thread two must print the list of cubes"
   ]
  },
  {
   "cell_type": "code",
   "execution_count": 34,
   "id": "46de91f8-4b66-4270-af66-16f9387a1429",
   "metadata": {},
   "outputs": [
    {
     "name": "stdout",
     "output_type": "stream",
     "text": [
      "Square: 25\n",
      "Square: 4\n",
      "Square: 16\n",
      "Square: 100\n",
      "Square: 121\n",
      "Square: 1\n",
      "Square: 36\n",
      "Square: 49\n",
      "Cube: 64\n",
      "Cube: 8\n",
      "Cube: 125\n",
      "Cube: 1000\n",
      "Cube: 1331\n",
      "Cube: 1\n",
      "Cube: 216\n",
      "Cube: 343\n",
      "Done!\n"
     ]
    }
   ],
   "source": [
    "import threading\n",
    "def print_cube(num):\n",
    "    # function to print cube of given num\n",
    "    for i in num:\n",
    "        print(f\"Cube: {i*i*i}\")\n",
    " \n",
    "def print_square(num):\n",
    "    # function to print square of given num\n",
    "    for i in num:\n",
    "        print(\"Square: {}\" .format(i * i))\n",
    " \n",
    "t1 = threading.Thread(target=print_square, args=([5,2,4,10,11,1,6,7],))\n",
    "t2 = threading.Thread(target=print_cube, args=([4,2,5,10,11,1,6,7],))\n",
    " \n",
    "t1.start()\n",
    "t2.start()\n",
    "\n",
    "    \n",
    "print(\"Done!\")\n"
   ]
  },
  {
   "cell_type": "markdown",
   "id": "2d612327-1fb8-4a26-9c55-71fb0bd82f0f",
   "metadata": {},
   "source": [
    "A5 Advantages an Disadvantages of Multithreading\n",
    "\n",
    "Advantages:\n",
    "    \n",
    "1. Enhanced performance or throughput of the server \n",
    "2. Decreased development time\n",
    "3. Simplified and streamlined program coding\n",
    "4. Minimalised system resource usage\n",
    "5. Simultaneous and parallelized occurrence of tasks\n",
    "6. Better use of cache storage by utilization of resources\n",
    "7. Decreased cost of maintenance\n",
    "8. Better use of CPU resource and less overhead to create , maintain n manage than the traditional process\n",
    "\n",
    "Disadvantages\n",
    "1. Complex debugging and testing processes\n",
    "2. Overhead switching of context\n",
    "3. Increased potential for deadlock occurrence\n",
    "4. Unpredictable results\n",
    "5. Difficulty of writing code. \n",
    "6. Difficulty of managing concurrency. \n",
    "7. Difficulty of porting existing code.\n"
   ]
  },
  {
   "cell_type": "markdown",
   "id": "966e10f7-08f9-45b3-baca-600a4c217cd8",
   "metadata": {},
   "source": [
    "A6. \n",
    "A Race condition occurs when two threads use the same variable at a given time. \n",
    "In race condition the program result depende on the execution of the individual steps.\n",
    "\n",
    "Deadlock exists when two threads seek one lock simultaneously. \n",
    "Threads wait for a condition that never occur.\n",
    "This situation will stop both threads from processing or executing the functions."
   ]
  }
 ],
 "metadata": {
  "kernelspec": {
   "display_name": "Python 3 (ipykernel)",
   "language": "python",
   "name": "python3"
  },
  "language_info": {
   "codemirror_mode": {
    "name": "ipython",
    "version": 3
   },
   "file_extension": ".py",
   "mimetype": "text/x-python",
   "name": "python",
   "nbconvert_exporter": "python",
   "pygments_lexer": "ipython3",
   "version": "3.10.8"
  }
 },
 "nbformat": 4,
 "nbformat_minor": 5
}
