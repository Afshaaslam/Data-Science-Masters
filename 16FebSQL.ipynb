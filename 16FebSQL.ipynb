{
 "cells": [
  {
   "cell_type": "markdown",
   "id": "3dc772e3-008a-40fe-8ca8-7bcc36d663d5",
   "metadata": {},
   "source": [
    "Q1. What is a database? Differentiate between SQL and NoSQL databases.\n",
    "Ans.A database is an organized collection of structured information, or data, typically stored electronically in a computer system. \n",
    "A database is usually controlled by a database management system (DBMS).\n",
    "\n",
    "SQL: SQL databases are primarily called Relational Databases (RDBMS)\n",
    "SQL is one of the most versatile and widely-used options availabl\n",
    "It requires you to use predefined schemas to determine the structure of your data before you work with it. Also, all of your data must follow the same structure. \n",
    "vertically scalable dbs\n",
    "Good support available from vendors\n",
    "SQL is a good choice when working with related data as info is provided in real time\n",
    "\n",
    "EG: MySQL, PostgreSQL, Oracle, MS-SQL Server\n",
    "\n",
    "NoSQL: NoSQL databases are primarily called non-relational or distributed databases. \n",
    "It has a dynamic schema for unstructured data. Data is stored in many ways which means it can be document-oriented, column-oriented, graph-based, or organized as a key-value store. \n",
    "This flexibility means that documents can be created without having a defined structure first as each document has its own unique structure.\n",
    "Horizontally scalable\n",
    "Rely on community for support\n",
    "NoSQL is good when the availability of big data is more crucial and data sets are large and constantly changing\n",
    "\n",
    "EG: CouchDB, MongoDB, and Amazon DocumentDB,"
   ]
  },
  {
   "cell_type": "markdown",
   "id": "a03b5823-eb27-4590-86e2-d49bc02aab6c",
   "metadata": {},
   "source": [
    "Q2. What is DDL? Explain why CREATE, DROP, ALTER, and TRUNCATE are used with an example.\n",
    "\n",
    "Ans. A data definition/description language (DDL) is a computer language used to create and modify the structure of database objects in a database. These datab\n",
    "DROP TABLE command deletes a table in the database.ase objects include views, schemas, tables, indexes, etc.\n",
    "\n",
    "CREATE DATABASE creates aa new databse if not exists\n",
    "CREATE TABLE command creates a new table in the database.\n",
    "EG:\n",
    "CREATE DATABASE if not EXISTS test\n",
    "CREATE TABLE if not exists test.test_table (c1 INT, c2 VARCHAR(50),c3 INT, c4 FLOAT,c5 VARCHAR(40))\n",
    "\n",
    "DROP TABLE command deletes a table in the database.\n",
    "Eg: \n",
    "DROP DATABASE test;\n",
    "\n",
    "ALTER TABLE command adds, deletes, or modifies columns and constraints in a table.\n",
    "Eg:\n",
    "ALTER TABLE test\n",
    "ADD Email varchar(100);\n",
    "\n",
    "\n",
    "TRUNCATE TABLE command deletes the data inside a table, but not the table itself.\n",
    "Eg:\n",
    "TRUNCATE TABLE c4;\n",
    "\n",
    "\n"
   ]
  },
  {
   "cell_type": "markdown",
   "id": "800abc99-08dc-47be-8709-ed19a1b1a4a4",
   "metadata": {},
   "source": [
    "Q3. What is DML? Explain INSERT, UPDATE, and DELETE with an example.\n",
    "Ans.\n",
    "A data manipulation language (DML) has commands permitting users to manipulate data in a database. \n",
    "This manipulation involves inserting data into database tables, retrieving existing data, deleting data from existing tables and modifying existing data.\n",
    "DML is mostly incorporated in SQL databases.\n",
    "\n",
    "\n",
    "INSERT\n",
    "This command adds one or more records to a database table\n",
    "Eg:\n",
    "insert into test.test_table values(1, 'afsha aslam',41,344.56, 'Maharashtra')\n",
    "\n",
    "UPDATE\n",
    "This command modifies data of one or more records.\n",
    "Eg:\n",
    "UPDATE test\n",
    "SET c2 = \"Asna\"\n",
    "WHERE c3 is null;\n",
    "\n",
    " \n",
    "DELETE\n",
    "This command removes one or more records from a table according to specified conditions\n",
    "Eg:\n",
    "DELETE FROM test WHERE c1=2\n",
    "\n"
   ]
  },
  {
   "cell_type": "markdown",
   "id": "06223046-8504-498c-8ce9-33eda9f2b574",
   "metadata": {},
   "source": [
    "Q4. What is DQL? Explain SELECT with an example.\n",
    "\n",
    "Ans.\n",
    "Data Query Languages are used to make various queries to the information system ans databases. Eg SQL\n",
    "SELECT is the  most commonly used command in Structured Query Language.\n",
    "t is used to access the records from one or more database tables and views. It also retrieves the selected data that follow the conditions we want.\n",
    "Eg:\n",
    "SELECT * from test\n",
    "SELECT * from test WHERE c1='Afsha'\n",
    "SELECT c1,c2 from test GROUPBY c2\n",
    "\n",
    "Other conditional clauses are also used with SELECT statement like HAVING, ORDERBY."
   ]
  },
  {
   "cell_type": "markdown",
   "id": "54ce991a-b53e-4ca3-8503-5acdda7c5db0",
   "metadata": {},
   "source": [
    "Q5. Explain Primary Key and Foreign Key.\n",
    "Ans. A primary key generally focuses on the uniqueness of the table. \n",
    "It assures the value in the specific column is unique.The table allows only one primary key.\n",
    "\n",
    "A foreign key is generally used to build a relationship between the two tables.It is generally a column or group of columns in RDBMS"
   ]
  },
  {
   "cell_type": "markdown",
   "id": "41b2f7fc-c169-4241-bd78-cee4fe4621ac",
   "metadata": {},
   "source": [
    "Q6. Write a python code to connect MySQL to python. Explain the cursor() and execute()\n",
    "Ans.\n",
    "cursor() :\n",
    "A cursor is an object which helps to execute the query and fetch the records from the database. The cursor plays a very important role in executing the query.\n",
    "are bound to the connection for the entire lifetime and all the commands are executed in the context of the database session wrapped by the connection.\n",
    "\n",
    "execute() :\n",
    "This method executes the given database operation (query or command). The parameters found in the tuple or dictionary params are bound to the variables in the operation."
   ]
  },
  {
   "cell_type": "code",
   "execution_count": null,
   "id": "61955606-272a-4fcc-9c26-0be05158a5d1",
   "metadata": {},
   "outputs": [],
   "source": [
    "##python code to connect MySQL to python\n",
    "import mysql.connector\n",
    "mydb = mysql.connector.connect(\n",
    "  host=\"localhost\",\n",
    "  user=\"abc\",\n",
    "  password=\"password\"\n",
    ")\n",
    "mycursor = mydb.cursor()"
   ]
  },
  {
   "cell_type": "markdown",
   "id": "60568aea-9c7e-4d2c-b82e-f94726204a68",
   "metadata": {},
   "source": [
    "Q7. Give the order of execution of SQL clauses in an SQL query.\n",
    "Ans.The below is the order of execution of the SQL clause in sequence:\n",
    "1 FROM\n",
    "2 WHERE\n",
    "3 GROUP BY\n",
    "4 HAVING\n",
    "5 SELECT\n",
    "6 ORDER BY\n",
    "7 LIMIT/OFFSET(to skip a specified number of rows"
   ]
  }
 ],
 "metadata": {
  "kernelspec": {
   "display_name": "Python 3 (ipykernel)",
   "language": "python",
   "name": "python3"
  },
  "language_info": {
   "codemirror_mode": {
    "name": "ipython",
    "version": 3
   },
   "file_extension": ".py",
   "mimetype": "text/x-python",
   "name": "python",
   "nbconvert_exporter": "python",
   "pygments_lexer": "ipython3",
   "version": "3.10.8"
  }
 },
 "nbformat": 4,
 "nbformat_minor": 5
}
