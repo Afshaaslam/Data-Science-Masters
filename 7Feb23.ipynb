{
 "cells": [
  {
   "cell_type": "markdown",
   "id": "bc5a69bd-8dc0-493a-9fde-4f7f24d6350b",
   "metadata": {},
   "source": [
    "Assignment 1\n",
    "1. The Password should contain at least two uppercase letters and at least two lowercase letters.\n",
    "2. The Password should contain at least a number and three special characters.\n",
    "3. The length of the password should be 10 characters long."
   ]
  },
  {
   "cell_type": "code",
   "execution_count": 17,
   "id": "b4dbb0e8-ff3a-401a-aa48-fe49fc8090b8",
   "metadata": {},
   "outputs": [
    {
     "name": "stdout",
     "output_type": "stream",
     "text": [
      "l,u,sp,d=  3 2 3 3\n",
      "Valid Password\n"
     ]
    }
   ],
   "source": [
    "l, u, sp, d = 0, 0, 0, 0\n",
    "capitalletters=\"ABCDEFGHIJKLMNOPQRSTUVWXYZ\"\n",
    "smallletters=\"abcdefghijklmnopqrstuvwxyz\"\n",
    "specialchar=\"$@_\"\n",
    "digits=\"0123456789\"\n",
    "p=\"AfshA$123@_\"\n",
    "if (len(p) >= 10):\n",
    "    for i in p:\n",
    " \n",
    "        # counting lowercase alphabets\n",
    "        if (i in smallletters):\n",
    "            l+=1           \n",
    " \n",
    "        # counting uppercase alphabets\n",
    "        if (i in capitalletters):\n",
    "            u+=1           \n",
    " \n",
    "        # counting digits\n",
    "        if (i in digits):\n",
    "            d+=1           \n",
    " \n",
    "        # counting the mentioned special characters\n",
    "        if(i in specialchar):\n",
    "            sp+=1    \n",
    "        \n",
    "print('l,u,sp,d= ',l,u,sp,d)\n",
    "if (l>=2 and u>=2 and sp>=3 and d>=1 and l+sp+u+d==len(p)):\n",
    "    print(\"Valid Password\")\n",
    "else:\n",
    "    print(\"Invalid Password\")"
   ]
  },
  {
   "cell_type": "markdown",
   "id": "e6e10114-929d-44eb-8f8f-5dad4b4df0c8",
   "metadata": {},
   "source": [
    "Solve the below-given questions using at least one of the following:\n",
    "1. Lambda function\n",
    "2. Filter function\n",
    "3. Map function\n",
    "4. List Comprehension\n",
    "\n",
    "1.Check if the string starts with a particular letter\n",
    "2.Check if the string is numeric\n",
    "3.Sort a list of tuples having fruit names and their quantity.(\"mango\",99),(\"orange\",80), (\"grapes\", 1000)]\n",
    "4.Find the squares of numbers from 1 to 10\n",
    "5.Find the cube root of numbers from 1 to 10\n",
    "6.Check if a given number is even\n",
    "7.Filter odd numbers from the given list. 1,2,3,4,5,6,7,8,9,10]\n",
    "8.Sort a list of integers into positive and negative integers lists.\n",
    " 1,2,3,4,5,6,-1,-2,-3,-4,-5,0]"
   ]
  },
  {
   "cell_type": "code",
   "execution_count": 57,
   "id": "6f212fdb-5068-4f3c-81e8-e85da4ad59c0",
   "metadata": {},
   "outputs": [
    {
     "name": "stdin",
     "output_type": "stream",
     "text": [
      "Enter a string afs\n"
     ]
    },
    {
     "name": "stdout",
     "output_type": "stream",
     "text": [
      "[\"Given String starts with Letter 'A'\", \"Given String starts with Letter 'A'\", \"Given String starts with Letter 'A'\"]\n"
     ]
    }
   ],
   "source": [
    "##1. Check if string starts with a particulat letter\n",
    "str=input(\"Enter a string\")\n",
    "x= [ 'A'\" for x in str if str[0] == 'a' or str[0]==\"A\"]\n",
    "print (x)"
   ]
  },
  {
   "cell_type": "code",
   "execution_count": 15,
   "id": "87016a28-7099-454b-92cf-3bc0b23abb25",
   "metadata": {},
   "outputs": [
    {
     "name": "stdin",
     "output_type": "stream",
     "text": [
      "Enter a string 333\n"
     ]
    },
    {
     "name": "stdout",
     "output_type": "stream",
     "text": [
      "['Its a  String']\n"
     ]
    }
   ],
   "source": [
    "## 2. Check if strinf is numeric\n",
    "str=input(\"Enter a string\")\n",
    "val=[\"Its a  String\" if str.isnumeric() else \"Its not a numeric String\" ]\n",
    "print (val)"
   ]
  },
  {
   "cell_type": "code",
   "execution_count": 21,
   "id": "72b16f60-da2d-4e14-a609-89ea0c282bca",
   "metadata": {},
   "outputs": [
    {
     "name": "stdout",
     "output_type": "stream",
     "text": [
      "[('grapes', 10), ('mango', 99), ('orange', 80)]\n"
     ]
    }
   ],
   "source": [
    "# 3. Sort a list of tuples having fruit names and their quantity.[(\"mango\",99),(\"orange\",80), (\"grapes\", 1000)]\n",
    "list_of_tuples = [(\"mango\",99),(\"orange\",80), (\"grapes\", 10)]\n",
    "sorted_list = sorted(list_of_tuples)\n",
    "print(sorted_list)"
   ]
  },
  {
   "cell_type": "code",
   "execution_count": 39,
   "id": "b1b09ec0-544a-4c20-83ca-fa8262de8228",
   "metadata": {},
   "outputs": [
    {
     "data": {
      "text/plain": [
       "[1, 4, 9, 16, 25, 36, 49, 64, 81, 100]"
      ]
     },
     "execution_count": 39,
     "metadata": {},
     "output_type": "execute_result"
    }
   ],
   "source": [
    "##4.Find the Square of numbers from 1 to 10\n",
    "my_list=[1,2,3,4,5,6,7,8,9,10]\n",
    "##print (list(i**2 for i in range(1,11)))\n",
    "list(map(lambda x: x**2,my_list))"
   ]
  },
  {
   "cell_type": "code",
   "execution_count": 41,
   "id": "38c34b5b-d0ba-498f-983d-a4590f5a548f",
   "metadata": {},
   "outputs": [
    {
     "data": {
      "text/plain": [
       "[1.0,\n",
       " 1.2599210498948734,\n",
       " 1.4422495703074083,\n",
       " 1.5874010519681996,\n",
       " 1.7099759466766968,\n",
       " 1.8171205928321394,\n",
       " 1.9129311827723894,\n",
       " 2.0,\n",
       " 2.080083823051904,\n",
       " 2.1544346900318834]"
      ]
     },
     "execution_count": 41,
     "metadata": {},
     "output_type": "execute_result"
    }
   ],
   "source": [
    "##5. Find the cube root of numbers from 1 to 10\n",
    "import numpy as np\n",
    "##for i in range(1,11):\n",
    "##    print(np.cbrt(i))\n",
    "l=[1,2,3,4,5,6,7,8,9,10]\n",
    "list(map(lambda x: np.cbrt(x) ,l))"
   ]
  },
  {
   "cell_type": "code",
   "execution_count": 18,
   "id": "10c7d232-f20c-467c-a985-b4cba8aa4682",
   "metadata": {},
   "outputs": [
    {
     "data": {
      "text/plain": [
       "[2, 4, 6, 8, 10]"
      ]
     },
     "execution_count": 18,
     "metadata": {},
     "output_type": "execute_result"
    }
   ],
   "source": [
    "#6. Filter even numbers from a given list\n",
    "l=[1,2,3,4,5,6,7,8,9,10]\n",
    "list(filter(lambda x:x%2==0 ,l))"
   ]
  },
  {
   "cell_type": "code",
   "execution_count": 16,
   "id": "7baf360f-8314-4618-aedf-4cf6714ae483",
   "metadata": {},
   "outputs": [
    {
     "name": "stdout",
     "output_type": "stream",
     "text": [
      "[1, 3, 5, 7, 9]\n"
     ]
    }
   ],
   "source": [
    "##7. Filter odd numbers from a given list[1,2,3,4,5,6,7,8,9,10]\n",
    "l= [1,2,3,4,5,6,7,8,9,10]\n",
    "odd= [num for num in l if num%2!=0]\n",
    "print(odd)"
   ]
  },
  {
   "cell_type": "code",
   "execution_count": 47,
   "id": "712915a2-b335-4af7-8683-e4a932ad7899",
   "metadata": {},
   "outputs": [
    {
     "name": "stdout",
     "output_type": "stream",
     "text": [
      "Positive list of nubers is :[1, 2, 3, 4, 5, 6, 0] \n",
      "Negative list of numbers i s: [-1, -2, -3, -4, -5]\n"
     ]
    }
   ],
   "source": [
    "#8. Sort a list of integers into positive and negative integers lists.\n",
    "lst=[1,2,3,4,5,6,-1,-2,-3,-4,-5,0]\n",
    "positive=[num for num in lst if num>=0]\n",
    "negative=[num for num in lst if num<0]\n",
    "print(f\"Positive list of nubers is :{positive}\", f\"\\nNegative list of numbers i s: {negative}\")"
   ]
  },
  {
   "cell_type": "code",
   "execution_count": null,
   "id": "47a77a49-c759-4824-b102-0df84cf63711",
   "metadata": {},
   "outputs": [],
   "source": []
  }
 ],
 "metadata": {
  "kernelspec": {
   "display_name": "Python 3 (ipykernel)",
   "language": "python",
   "name": "python3"
  },
  "language_info": {
   "codemirror_mode": {
    "name": "ipython",
    "version": 3
   },
   "file_extension": ".py",
   "mimetype": "text/x-python",
   "name": "python",
   "nbconvert_exporter": "python",
   "pygments_lexer": "ipython3",
   "version": "3.10.8"
  }
 },
 "nbformat": 4,
 "nbformat_minor": 5
}
