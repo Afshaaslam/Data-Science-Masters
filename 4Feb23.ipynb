{
 "cells": [
  {
   "cell_type": "code",
   "execution_count": 1,
   "id": "5cdc4a18-4080-4d1f-a856-d8d09f30f601",
   "metadata": {},
   "outputs": [
    {
     "data": {
      "text/plain": [
       "[('Virat Kohli', 24936),\n",
       " ('Jack Kallis', 25534),\n",
       " ('Ricky Ponting', 27483),\n",
       " ('Sachin Tendulkar', 34357)]"
      ]
     },
     "execution_count": 1,
     "metadata": {},
     "output_type": "execute_result"
    }
   ],
   "source": [
    "##A1.\n",
    "##Lamda is special type of function with no function nae. It can take any number of arguments but only one expression. \n",
    "##Program to sort the given list of tuples based on integer value using a lambda function.\n",
    "lst=[('Sachin Tendulkar', 34357), ('Ricky Ponting', 27483), ('Jack Kallis', 25534), ('Virat Kohli', 24936)]\n",
    "lst.sort(key=lambda x:x[1])\n",
    "lst\n"
   ]
  },
  {
   "cell_type": "code",
   "execution_count": 2,
   "id": "fc997a04-6d51-4804-9e6f-0ee83cfd11b8",
   "metadata": {},
   "outputs": [
    {
     "data": {
      "text/plain": [
       "[1, 4, 9, 16, 25, 36, 49, 64, 81, 100]"
      ]
     },
     "execution_count": 2,
     "metadata": {},
     "output_type": "execute_result"
    }
   ],
   "source": [
    "##A2.\n",
    "##Python Program to find the squares of all the numbers in the given list of integers using\n",
    "##lambda and map functions.\n",
    "l=[1,2,3,4,5,6,7,8,9,10]\n",
    "list(map(lambda x: x**2 ,l))\n"
   ]
  },
  {
   "cell_type": "code",
   "execution_count": 3,
   "id": "01b5e910-5501-4e83-9d5f-fd449664e737",
   "metadata": {},
   "outputs": [
    {
     "data": {
      "text/plain": [
       "['1', '2', '3', '4', '5', '6', '7', '8', '9', '10']"
      ]
     },
     "execution_count": 3,
     "metadata": {},
     "output_type": "execute_result"
    }
   ],
   "source": [
    "##A3.\n",
    "##Python program to convert the given list of integers into a tuple of strings. Use map and\n",
    "##lambda functions\n",
    "l=[1,2,3,4,5,6,7,8,9,10]\n",
    "list(map(lambda x: str(x) ,l))\n"
   ]
  },
  {
   "cell_type": "code",
   "execution_count": 4,
   "id": "b50c0dec-be03-4749-bcc9-53e31905e7ea",
   "metadata": {},
   "outputs": [
    {
     "data": {
      "text/plain": [
       "15511210043330985984000000"
      ]
     },
     "execution_count": 4,
     "metadata": {},
     "output_type": "execute_result"
    }
   ],
   "source": [
    "##A4\n",
    "##program using reduce function to compute the product of a list containing numbers from 1 to 25.\n",
    "from functools import reduce\n",
    "l=[1,2,3,4,5,6,7,8,9,10,11,12,13,14,15,16,17,18,19,20,21,22,23,24,25]\n",
    "reduce(lambda x,y : x*y,l)\n"
   ]
  },
  {
   "cell_type": "code",
   "execution_count": 6,
   "id": "7391dfed-31d7-44f2-835a-554ded415b90",
   "metadata": {},
   "outputs": [
    {
     "data": {
      "text/plain": [
       "[2, 3, 6, 9, 27, 60, 90, 120, 46]"
      ]
     },
     "execution_count": 6,
     "metadata": {},
     "output_type": "execute_result"
    }
   ],
   "source": [
    "##A5.\n",
    "##program to filter the numbers in a given list that are divisible by 2 and 3 using the\n",
    "##filter function.\n",
    "l1=[2, 3, 6, 9, 27, 60, 90, 120, 55, 46]\n",
    "list(filter(lambda  x: x%2==0 or x%3==0 ,l1))\n"
   ]
  },
  {
   "cell_type": "code",
   "execution_count": 8,
   "id": "e3d6ec51-751a-425a-8a88-2e80f75cb7fb",
   "metadata": {},
   "outputs": [
    {
     "data": {
      "text/plain": [
       "['php', 'aba', 'radar', 'level']"
      ]
     },
     "execution_count": 8,
     "metadata": {},
     "output_type": "execute_result"
    }
   ],
   "source": [
    "##A6.\n",
    "##program to find palindromes in the given list of strings using lambda and filter\n",
    "##function.\n",
    "lst=['python', 'php', 'aba', 'radar', 'level']\n",
    "result = list(filter(lambda x: (x == \"\".join(reversed(x))), lst)) \n",
    "result"
   ]
  },
  {
   "cell_type": "code",
   "execution_count": null,
   "id": "2e2bb2e1-ed26-4988-a4ef-6491c3bcbe68",
   "metadata": {},
   "outputs": [],
   "source": []
  }
 ],
 "metadata": {
  "kernelspec": {
   "display_name": "Python 3 (ipykernel)",
   "language": "python",
   "name": "python3"
  },
  "language_info": {
   "codemirror_mode": {
    "name": "ipython",
    "version": 3
   },
   "file_extension": ".py",
   "mimetype": "text/x-python",
   "name": "python",
   "nbconvert_exporter": "python",
   "pygments_lexer": "ipython3",
   "version": "3.10.8"
  }
 },
 "nbformat": 4,
 "nbformat_minor": 5
}
