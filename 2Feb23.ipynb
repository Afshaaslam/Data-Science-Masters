{
 "cells": [
  {
   "cell_type": "raw",
   "id": "ec884787-2ece-43eb-9e6d-1f253ea6ce02",
   "metadata": {},
   "source": [
    "A1. Tuple is a collection which is Ordered, Indexed, Immutable and can contain duplicate items\n",
    "A2.  Tuples don’t have methods like list because they are immutable whereas list can be modified\n",
    "Count(): Returns the number of times a specified value occurs in tuple\n",
    "Index():Searches the tuple for a specified value and returns the position where it was found first.\n",
    "A3. Sets does not allow duplication in python"
   ]
  },
  {
   "cell_type": "code",
   "execution_count": 1,
   "id": "5e21f4bc-7e0b-460e-9230-2a30d7ee789f",
   "metadata": {},
   "outputs": [
    {
     "name": "stdout",
     "output_type": "stream",
     "text": [
      "Original list with Duplicates : [10, 55, 23, 66, 23, 55, 66, 10]\n",
      "The list without duplicates : [10, 23, 66, 55]\n"
     ]
    }
   ],
   "source": [
    "##A3 Eg\n",
    "test_list = [10, 55, 23, 66, 23, 55, 66, 10]\n",
    "print (\"Original list with Duplicates : \" + str(test_list))\n",
    "test_list = list(set(test_list))\n",
    "print (\"The list without duplicates : \"+ str(test_list))\n",
    "\n"
   ]
  },
  {
   "cell_type": "raw",
   "id": "9af35eef-3712-475a-9963-bc3a471718e5",
   "metadata": {},
   "source": [
    "A4.\n",
    "update() function adds all the missing elements to the set on which it is called or it adds distinct elements sent from one or more iterables whereas,\n",
    " Set.union() function creates a new set\n"
   ]
  },
  {
   "cell_type": "code",
   "execution_count": 2,
   "id": "c059363c-2b14-47a3-aac3-63fb00eb7df7",
   "metadata": {},
   "outputs": [
    {
     "name": "stdout",
     "output_type": "stream",
     "text": [
      "{'e', 'd', 'a', 'c', 'f', 'b'}\n"
     ]
    }
   ],
   "source": [
    "##A4. Examples:\n",
    "x = {\"a\", \"b\", \"c\"}\n",
    "y = {\"d\", \"e\", \"f\"}\n",
    "z = x.union(y)\n",
    "print(z)\n"
   ]
  },
  {
   "cell_type": "code",
   "execution_count": 3,
   "id": "22b915c2-51e6-4db8-9c8e-e8b33db1626e",
   "metadata": {},
   "outputs": [
    {
     "name": "stdout",
     "output_type": "stream",
     "text": [
      "Updated set:  {1, 2, 3, 5, 7}\n"
     ]
    }
   ],
   "source": [
    "x = {1, 2, 3}\n",
    "y = {2, 3, 5, 7}\n",
    "x.update(y)\n",
    "print(\"Updated set: \", x)\n"
   ]
  },
  {
   "cell_type": "raw",
   "id": "11fb84a6-d1cb-4aa0-bb70-dd6985711163",
   "metadata": {},
   "source": [
    "A5. Dictionaries are data structures for storing Key Value pairs.\n",
    "Its is unordered collection. It is mutable as a key -value pair can be added or deleted from it.\n",
    "Its also called as associative array, as each value is associated to a key.\n",
    "Example:\n"
   ]
  },
  {
   "cell_type": "code",
   "execution_count": 4,
   "id": "b80f02f8-2229-4eb0-a265-b34960d4a39b",
   "metadata": {},
   "outputs": [
    {
     "name": "stdout",
     "output_type": "stream",
     "text": [
      "{'b': 4, 'c': 3}\n"
     ]
    }
   ],
   "source": [
    "dic = {\"a\" : 1 , \"b\" : 2} \n",
    "dic[\"c\"] = 3 \n",
    "dic[\"b\"] = 4\n",
    "del dic[\"a\"]\n",
    "print(dic)\n"
   ]
  },
  {
   "cell_type": "raw",
   "id": "7ed4b039-7e6f-4ed2-b26f-e45885528941",
   "metadata": {},
   "source": [
    "A6. Yes, a nested dictionary can be created\n",
    "Example as below:\n"
   ]
  },
  {
   "cell_type": "code",
   "execution_count": 5,
   "id": "b66e7441-93e8-4756-9578-adcda2f6cc85",
   "metadata": {},
   "outputs": [
    {
     "name": "stdout",
     "output_type": "stream",
     "text": [
      "{'dic1': {1: 'afsha', 2: 'Quamruddin'}, 'dic2': {3: 'Asna', 4: 'Ahad'}}\n",
      "Asna\n",
      "Quamruddin\n"
     ]
    }
   ],
   "source": [
    "dic={\"dic1\" :{1:\"afsha\", 2: \"Quamruddin\"} , \n",
    "     \"dic2\" :{3:\"Asna\", 4:  \"Ahad\"}}\n",
    "print(dic,end=\"\\n\")\n",
    "print (dic[\"dic2\"][3])\n",
    "print(dic['dic1'][2])\n",
    "\n"
   ]
  },
  {
   "cell_type": "code",
   "execution_count": null,
   "id": "7de63a35-0625-4eb7-a9ab-23c9919b2bac",
   "metadata": {},
   "outputs": [],
   "source": []
  }
 ],
 "metadata": {
  "kernelspec": {
   "display_name": "Python 3 (ipykernel)",
   "language": "python",
   "name": "python3"
  },
  "language_info": {
   "codemirror_mode": {
    "name": "ipython",
    "version": 3
   },
   "file_extension": ".py",
   "mimetype": "text/x-python",
   "name": "python",
   "nbconvert_exporter": "python",
   "pygments_lexer": "ipython3",
   "version": "3.10.8"
  }
 },
 "nbformat": 4,
 "nbformat_minor": 5
}
